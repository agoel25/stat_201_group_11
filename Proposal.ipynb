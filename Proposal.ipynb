{
 "cells": [
  {
   "cell_type": "markdown",
   "id": "b39a6a7e-322a-4232-8186-cdca0a21d2e2",
   "metadata": {},
   "source": [
    "# Gender and Mean Suicide Rates in Canada\n",
    "### Group 11 Project Proposal\n",
    "##### Group Members: \n",
    "Aaron Cui (94952777)\n",
    "<br>Aditya Goel (84874379)\n",
    "<br>Jialu Jin (24403594)\n",
    "<br>Yirui Wang (27719509)"
   ]
  },
  {
   "cell_type": "markdown",
   "id": "998102bd-09da-4a33-bb6e-47ad3379eb2b",
   "metadata": {},
   "source": [
    "# Introduction\n"
   ]
  },
  {
   "cell_type": "markdown",
   "id": "90a5ef53-5921-4978-a7d0-bfcebefbb10c",
   "metadata": {},
   "source": [
    "Suicide is a prevelent cause of death in Canada, accounting for 1.2% of all deaths in the year 2020 (Elflein Distribution of deaths Canada by cause 2020). Past research has led us to believe that there may be differences in suicide rates between men and women, therefore we are interested in further studying this phenomenon (cite here). As a result, our research question for this project is: **what were the mean suicide rates of males and females in Canada between 1985 and 2013?** We will be using the Suicide Rates Overview 1985 to 2016 dataset sourced from Kaggle for our analysis, focusing only on the data relevant to Canada. Our response variable will be the number of suicides per 100,000 people, and we have decided to use mean as our location parameter and standard deviation as our scale parameter. "
   ]
  },
  {
   "cell_type": "markdown",
   "id": "715bef19-c0f4-407e-b780-912af6d8d461",
   "metadata": {},
   "source": [
    "# Preliminary Results"
   ]
  },
  {
   "cell_type": "code",
   "execution_count": 3,
   "id": "a8f686fe-f389-404a-b6e9-45714a83daef",
   "metadata": {},
   "outputs": [
    {
     "name": "stderr",
     "output_type": "stream",
     "text": [
      "Warning message in system(\"timedatectl\", intern = TRUE):\n",
      "“running command 'timedatectl' had status 1”\n",
      "── \u001b[1mAttaching packages\u001b[22m ─────────────────────────────────────── tidyverse 1.3.2 ──\n",
      "\u001b[32m✔\u001b[39m \u001b[34mggplot2\u001b[39m 3.3.6     \u001b[32m✔\u001b[39m \u001b[34mpurrr  \u001b[39m 0.3.4\n",
      "\u001b[32m✔\u001b[39m \u001b[34mtibble \u001b[39m 3.1.8     \u001b[32m✔\u001b[39m \u001b[34mdplyr  \u001b[39m 1.0.9\n",
      "\u001b[32m✔\u001b[39m \u001b[34mtidyr  \u001b[39m 1.2.0     \u001b[32m✔\u001b[39m \u001b[34mstringr\u001b[39m 1.4.1\n",
      "\u001b[32m✔\u001b[39m \u001b[34mreadr  \u001b[39m 2.1.2     \u001b[32m✔\u001b[39m \u001b[34mforcats\u001b[39m 0.5.2\n",
      "── \u001b[1mConflicts\u001b[22m ────────────────────────────────────────── tidyverse_conflicts() ──\n",
      "\u001b[31m✖\u001b[39m \u001b[34mdplyr\u001b[39m::\u001b[32mfilter()\u001b[39m masks \u001b[34mstats\u001b[39m::filter()\n",
      "\u001b[31m✖\u001b[39m \u001b[34mdplyr\u001b[39m::\u001b[32mlag()\u001b[39m    masks \u001b[34mstats\u001b[39m::lag()\n",
      "── \u001b[1mAttaching packages\u001b[22m ────────────────────────────────────── tidymodels 1.0.0 ──\n",
      "\n",
      "\u001b[32m✔\u001b[39m \u001b[34mbroom       \u001b[39m 1.0.1     \u001b[32m✔\u001b[39m \u001b[34mrsample     \u001b[39m 1.1.0\n",
      "\u001b[32m✔\u001b[39m \u001b[34mdials       \u001b[39m 1.0.0     \u001b[32m✔\u001b[39m \u001b[34mtune        \u001b[39m 1.0.1\n",
      "\u001b[32m✔\u001b[39m \u001b[34mmodeldata   \u001b[39m 1.0.1     \u001b[32m✔\u001b[39m \u001b[34mworkflows   \u001b[39m 1.1.0\n",
      "\u001b[32m✔\u001b[39m \u001b[34mparsnip     \u001b[39m 1.0.2     \u001b[32m✔\u001b[39m \u001b[34mworkflowsets\u001b[39m 1.0.0\n",
      "\u001b[32m✔\u001b[39m \u001b[34mrecipes     \u001b[39m 1.0.1     \u001b[32m✔\u001b[39m \u001b[34myardstick   \u001b[39m 1.1.0\n",
      "\n",
      "── \u001b[1mConflicts\u001b[22m ───────────────────────────────────────── tidymodels_conflicts() ──\n",
      "\u001b[31m✖\u001b[39m \u001b[34mscales\u001b[39m::\u001b[32mdiscard()\u001b[39m masks \u001b[34mpurrr\u001b[39m::discard()\n",
      "\u001b[31m✖\u001b[39m \u001b[34mdplyr\u001b[39m::\u001b[32mfilter()\u001b[39m   masks \u001b[34mstats\u001b[39m::filter()\n",
      "\u001b[31m✖\u001b[39m \u001b[34mrecipes\u001b[39m::\u001b[32mfixed()\u001b[39m  masks \u001b[34mstringr\u001b[39m::fixed()\n",
      "\u001b[31m✖\u001b[39m \u001b[34mdplyr\u001b[39m::\u001b[32mlag()\u001b[39m      masks \u001b[34mstats\u001b[39m::lag()\n",
      "\u001b[31m✖\u001b[39m \u001b[34myardstick\u001b[39m::\u001b[32mspec()\u001b[39m masks \u001b[34mreadr\u001b[39m::spec()\n",
      "\u001b[31m✖\u001b[39m \u001b[34mrecipes\u001b[39m::\u001b[32mstep()\u001b[39m   masks \u001b[34mstats\u001b[39m::step()\n",
      "\u001b[34m•\u001b[39m Learn how to get started at \u001b[32mhttps://www.tidymodels.org/start/\u001b[39m\n",
      "\n",
      "Registered S3 method overwritten by 'GGally':\n",
      "  method from   \n",
      "  +.gg   ggplot2\n",
      "\n"
     ]
    }
   ],
   "source": [
    "library(infer)\n",
    "library(repr)\n",
    "library(tidyverse)\n",
    "library(readxl)\n",
    "library(digest)\n",
    "library(dplyr)\n",
    "library(tidymodels)\n",
    "library(GGally)\n",
    "options(repr.matrix.max.rows = 6)"
   ]
  },
  {
   "cell_type": "markdown",
   "id": "8c804bce-2b4f-4069-b994-c99b86cb2204",
   "metadata": {},
   "source": [
    "Demonstrate that the dataset can be read from the web into R.\n",
    "- We downloaded the dataset from the web and put it in our repository."
   ]
  },
  {
   "cell_type": "code",
   "execution_count": 4,
   "id": "5112b08e-758b-43ce-b575-5e04fce18236",
   "metadata": {},
   "outputs": [
    {
     "data": {
      "text/html": [
       "<table class=\"dataframe\">\n",
       "<caption>A data.frame: 6 × 12</caption>\n",
       "<thead>\n",
       "\t<tr><th></th><th scope=col>country</th><th scope=col>year</th><th scope=col>sex</th><th scope=col>age</th><th scope=col>suicides_no</th><th scope=col>population</th><th scope=col>suicides.100k.pop</th><th scope=col>country.year</th><th scope=col>HDI.for.year</th><th scope=col>gdp_for_year....</th><th scope=col>gdp_per_capita....</th><th scope=col>generation</th></tr>\n",
       "\t<tr><th></th><th scope=col>&lt;chr&gt;</th><th scope=col>&lt;int&gt;</th><th scope=col>&lt;chr&gt;</th><th scope=col>&lt;chr&gt;</th><th scope=col>&lt;int&gt;</th><th scope=col>&lt;int&gt;</th><th scope=col>&lt;dbl&gt;</th><th scope=col>&lt;chr&gt;</th><th scope=col>&lt;dbl&gt;</th><th scope=col>&lt;chr&gt;</th><th scope=col>&lt;int&gt;</th><th scope=col>&lt;chr&gt;</th></tr>\n",
       "</thead>\n",
       "<tbody>\n",
       "\t<tr><th scope=row>1</th><td>Albania</td><td>1987</td><td>male  </td><td>15-24 years</td><td>21</td><td>312900</td><td>6.71</td><td>Albania1987</td><td>NA</td><td>2,156,624,900</td><td>796</td><td>Generation X   </td></tr>\n",
       "\t<tr><th scope=row>2</th><td>Albania</td><td>1987</td><td>male  </td><td>35-54 years</td><td>16</td><td>308000</td><td>5.19</td><td>Albania1987</td><td>NA</td><td>2,156,624,900</td><td>796</td><td>Silent         </td></tr>\n",
       "\t<tr><th scope=row>3</th><td>Albania</td><td>1987</td><td>female</td><td>15-24 years</td><td>14</td><td>289700</td><td>4.83</td><td>Albania1987</td><td>NA</td><td>2,156,624,900</td><td>796</td><td>Generation X   </td></tr>\n",
       "\t<tr><th scope=row>4</th><td>Albania</td><td>1987</td><td>male  </td><td>75+ years  </td><td> 1</td><td> 21800</td><td>4.59</td><td>Albania1987</td><td>NA</td><td>2,156,624,900</td><td>796</td><td>G.I. Generation</td></tr>\n",
       "\t<tr><th scope=row>5</th><td>Albania</td><td>1987</td><td>male  </td><td>25-34 years</td><td> 9</td><td>274300</td><td>3.28</td><td>Albania1987</td><td>NA</td><td>2,156,624,900</td><td>796</td><td>Boomers        </td></tr>\n",
       "\t<tr><th scope=row>6</th><td>Albania</td><td>1987</td><td>female</td><td>75+ years  </td><td> 1</td><td> 35600</td><td>2.81</td><td>Albania1987</td><td>NA</td><td>2,156,624,900</td><td>796</td><td>G.I. Generation</td></tr>\n",
       "</tbody>\n",
       "</table>\n"
      ],
      "text/latex": [
       "A data.frame: 6 × 12\n",
       "\\begin{tabular}{r|llllllllllll}\n",
       "  & country & year & sex & age & suicides\\_no & population & suicides.100k.pop & country.year & HDI.for.year & gdp\\_for\\_year.... & gdp\\_per\\_capita.... & generation\\\\\n",
       "  & <chr> & <int> & <chr> & <chr> & <int> & <int> & <dbl> & <chr> & <dbl> & <chr> & <int> & <chr>\\\\\n",
       "\\hline\n",
       "\t1 & Albania & 1987 & male   & 15-24 years & 21 & 312900 & 6.71 & Albania1987 & NA & 2,156,624,900 & 796 & Generation X   \\\\\n",
       "\t2 & Albania & 1987 & male   & 35-54 years & 16 & 308000 & 5.19 & Albania1987 & NA & 2,156,624,900 & 796 & Silent         \\\\\n",
       "\t3 & Albania & 1987 & female & 15-24 years & 14 & 289700 & 4.83 & Albania1987 & NA & 2,156,624,900 & 796 & Generation X   \\\\\n",
       "\t4 & Albania & 1987 & male   & 75+ years   &  1 &  21800 & 4.59 & Albania1987 & NA & 2,156,624,900 & 796 & G.I. Generation\\\\\n",
       "\t5 & Albania & 1987 & male   & 25-34 years &  9 & 274300 & 3.28 & Albania1987 & NA & 2,156,624,900 & 796 & Boomers        \\\\\n",
       "\t6 & Albania & 1987 & female & 75+ years   &  1 &  35600 & 2.81 & Albania1987 & NA & 2,156,624,900 & 796 & G.I. Generation\\\\\n",
       "\\end{tabular}\n"
      ],
      "text/markdown": [
       "\n",
       "A data.frame: 6 × 12\n",
       "\n",
       "| <!--/--> | country &lt;chr&gt; | year &lt;int&gt; | sex &lt;chr&gt; | age &lt;chr&gt; | suicides_no &lt;int&gt; | population &lt;int&gt; | suicides.100k.pop &lt;dbl&gt; | country.year &lt;chr&gt; | HDI.for.year &lt;dbl&gt; | gdp_for_year.... &lt;chr&gt; | gdp_per_capita.... &lt;int&gt; | generation &lt;chr&gt; |\n",
       "|---|---|---|---|---|---|---|---|---|---|---|---|---|\n",
       "| 1 | Albania | 1987 | male   | 15-24 years | 21 | 312900 | 6.71 | Albania1987 | NA | 2,156,624,900 | 796 | Generation X    |\n",
       "| 2 | Albania | 1987 | male   | 35-54 years | 16 | 308000 | 5.19 | Albania1987 | NA | 2,156,624,900 | 796 | Silent          |\n",
       "| 3 | Albania | 1987 | female | 15-24 years | 14 | 289700 | 4.83 | Albania1987 | NA | 2,156,624,900 | 796 | Generation X    |\n",
       "| 4 | Albania | 1987 | male   | 75+ years   |  1 |  21800 | 4.59 | Albania1987 | NA | 2,156,624,900 | 796 | G.I. Generation |\n",
       "| 5 | Albania | 1987 | male   | 25-34 years |  9 | 274300 | 3.28 | Albania1987 | NA | 2,156,624,900 | 796 | Boomers         |\n",
       "| 6 | Albania | 1987 | female | 75+ years   |  1 |  35600 | 2.81 | Albania1987 | NA | 2,156,624,900 | 796 | G.I. Generation |\n",
       "\n"
      ],
      "text/plain": [
       "  country year sex    age         suicides_no population suicides.100k.pop\n",
       "1 Albania 1987 male   15-24 years 21          312900     6.71             \n",
       "2 Albania 1987 male   35-54 years 16          308000     5.19             \n",
       "3 Albania 1987 female 15-24 years 14          289700     4.83             \n",
       "4 Albania 1987 male   75+ years    1           21800     4.59             \n",
       "5 Albania 1987 male   25-34 years  9          274300     3.28             \n",
       "6 Albania 1987 female 75+ years    1           35600     2.81             \n",
       "  country.year HDI.for.year gdp_for_year.... gdp_per_capita.... generation     \n",
       "1 Albania1987  NA           2,156,624,900    796                Generation X   \n",
       "2 Albania1987  NA           2,156,624,900    796                Silent         \n",
       "3 Albania1987  NA           2,156,624,900    796                Generation X   \n",
       "4 Albania1987  NA           2,156,624,900    796                G.I. Generation\n",
       "5 Albania1987  NA           2,156,624,900    796                Boomers        \n",
       "6 Albania1987  NA           2,156,624,900    796                G.I. Generation"
      ]
     },
     "metadata": {},
     "output_type": "display_data"
    }
   ],
   "source": [
    "Suicide_p <- read.csv(\"master.csv\", header=T)\n",
    "head(Suicide_p)"
   ]
  },
  {
   "cell_type": "markdown",
   "id": "60f21cb9-9c46-478e-b8b5-773fd410cd33",
   "metadata": {},
   "source": [
    "Clean and wrangle the data into a tidy format.\n",
    "- We cleaned and wrangled the data by filtering only Canada and selecting sex, year and suicides.100k.pop columns."
   ]
  },
  {
   "cell_type": "code",
   "execution_count": 10,
   "id": "1e36b80a-a504-4abe-b6b3-d6eb160abe69",
   "metadata": {},
   "outputs": [
    {
     "data": {
      "text/html": [
       "<table class=\"dataframe\">\n",
       "<caption>A data.frame: 348 × 4</caption>\n",
       "<thead>\n",
       "\t<tr><th scope=col>sex</th><th scope=col>year</th><th scope=col>age</th><th scope=col>suicides.100k.pop</th></tr>\n",
       "\t<tr><th scope=col>&lt;chr&gt;</th><th scope=col>&lt;int&gt;</th><th scope=col>&lt;chr&gt;</th><th scope=col>&lt;dbl&gt;</th></tr>\n",
       "</thead>\n",
       "<tbody>\n",
       "\t<tr><td>male</td><td>1985</td><td>75+ years  </td><td>28.45</td></tr>\n",
       "\t<tr><td>male</td><td>1985</td><td>55-74 years</td><td>27.27</td></tr>\n",
       "\t<tr><td>male</td><td>1985</td><td>25-34 years</td><td>27.00</td></tr>\n",
       "\t<tr><td>⋮</td><td>⋮</td><td>⋮</td><td>⋮</td></tr>\n",
       "\t<tr><td>female</td><td>2013</td><td>75+ years </td><td>4.61</td></tr>\n",
       "\t<tr><td>female</td><td>2013</td><td>5-14 years</td><td>1.10</td></tr>\n",
       "\t<tr><td>male  </td><td>2013</td><td>5-14 years</td><td>0.78</td></tr>\n",
       "</tbody>\n",
       "</table>\n"
      ],
      "text/latex": [
       "A data.frame: 348 × 4\n",
       "\\begin{tabular}{llll}\n",
       " sex & year & age & suicides.100k.pop\\\\\n",
       " <chr> & <int> & <chr> & <dbl>\\\\\n",
       "\\hline\n",
       "\t male & 1985 & 75+ years   & 28.45\\\\\n",
       "\t male & 1985 & 55-74 years & 27.27\\\\\n",
       "\t male & 1985 & 25-34 years & 27.00\\\\\n",
       "\t ⋮ & ⋮ & ⋮ & ⋮\\\\\n",
       "\t female & 2013 & 75+ years  & 4.61\\\\\n",
       "\t female & 2013 & 5-14 years & 1.10\\\\\n",
       "\t male   & 2013 & 5-14 years & 0.78\\\\\n",
       "\\end{tabular}\n"
      ],
      "text/markdown": [
       "\n",
       "A data.frame: 348 × 4\n",
       "\n",
       "| sex &lt;chr&gt; | year &lt;int&gt; | age &lt;chr&gt; | suicides.100k.pop &lt;dbl&gt; |\n",
       "|---|---|---|---|\n",
       "| male | 1985 | 75+ years   | 28.45 |\n",
       "| male | 1985 | 55-74 years | 27.27 |\n",
       "| male | 1985 | 25-34 years | 27.00 |\n",
       "| ⋮ | ⋮ | ⋮ | ⋮ |\n",
       "| female | 2013 | 75+ years  | 4.61 |\n",
       "| female | 2013 | 5-14 years | 1.10 |\n",
       "| male   | 2013 | 5-14 years | 0.78 |\n",
       "\n"
      ],
      "text/plain": [
       "    sex    year age         suicides.100k.pop\n",
       "1   male   1985 75+ years   28.45            \n",
       "2   male   1985 55-74 years 27.27            \n",
       "3   male   1985 25-34 years 27.00            \n",
       "⋮   ⋮      ⋮    ⋮           ⋮                \n",
       "346 female 2013 75+ years   4.61             \n",
       "347 female 2013 5-14 years  1.10             \n",
       "348 male   2013 5-14 years  0.78             "
      ]
     },
     "metadata": {},
     "output_type": "display_data"
    }
   ],
   "source": [
    "suicide_sample <- Suicide_p %>%\n",
    "                  filter(country %in% c(\"Canada\")) %>%\n",
    "                  select(sex, year, age, suicides.100k.pop)\n",
    "suicide_sample"
   ]
  },
  {
   "cell_type": "markdown",
   "id": "4cc067ab-41c9-495c-b60a-dee2e7aaa7f4",
   "metadata": {},
   "source": [
    "Plot the relevant raw data, tailoring your plot in a way that addresses your question.\n",
    "- We plot a boxplot of number of suicides per 100k population for different sex.\n",
    "- We also plot a histogram of Sample distribution of number of suicides per 100k population in Canada for 2 sex groups.\n",
    "- From the boxplot, we can see that the boxplots of two genders don't even overlap. Also, from the histogram, the sample distribution varies a lot for different genders. So we think this might indicate that there is a difference of the mean number of suicides per 100k population for two genders."
   ]
  },
  {
   "cell_type": "code",
   "execution_count": 11,
   "id": "9522a368-d191-4277-b633-72b600920acb",
   "metadata": {},
   "outputs": [
    {
     "data": {
      "image/png": "[encoded data removed]",
      "text/plain": [
       "plot without title"
      ]
     },
     "metadata": {
      "image/png": {
       "height": 420,
       "width": 420
      }
     },
     "output_type": "display_data"
    }
   ],
   "source": [
    "boxplot(suicides.100k.pop ~ sex, data = suicide_sample)"
   ]
  },
  {
   "cell_type": "code",
   "execution_count": 12,
   "id": "452ac23e-e46e-4b6a-a57f-f9a187ec5b00",
   "metadata": {},
   "outputs": [
    {
     "data": {
      "image/png": "[encoded data removed]",
      "text/plain": [
       "plot without title"
      ]
     },
     "metadata": {
      "image/png": {
       "height": 420,
       "width": 420
      }
     },
     "output_type": "display_data"
    }
   ],
   "source": [
    "histogram <- suicide_sample %>%\n",
    "    ggplot(aes(x = suicides.100k.pop, fill = sex)) +\n",
    "    geom_histogram(bins=30, color=\"#374652\", alpha=0.6, position = 'identity') +\n",
    "    scale_fill_manual(values=c(\"#985473\", \"#036425\")) +\n",
    "    ggtitle(\"Sample distribution of number of suicides per 100k population in Canada for 2 sex groups\")+\n",
    "    labs(fill=\"\") +\n",
    "    theme(text = element_text(size = 10))\n",
    "histogram"
   ]
  },
  {
   "cell_type": "markdown",
   "id": "22e607d6-837b-4af3-973c-c832c239c0d0",
   "metadata": {},
   "source": [
    "Compute estimates of the parameter you identified across your groups. Present this in a table. If relevant, include these estimates in your plot.\n",
    "- The following is the summary statistics(sample means of number of suicides per 100k population for female and male respectively)"
   ]
  },
  {
   "cell_type": "code",
   "execution_count": 13,
   "id": "6467516c-0201-4ed3-a7e2-2d7bf5edf0ea",
   "metadata": {},
   "outputs": [
    {
     "data": {
      "text/html": [
       "<table class=\"dataframe\">\n",
       "<caption>A tibble: 2 × 2</caption>\n",
       "<thead>\n",
       "\t<tr><th scope=col>sex</th><th scope=col>mean</th></tr>\n",
       "\t<tr><th scope=col>&lt;chr&gt;</th><th scope=col>&lt;dbl&gt;</th></tr>\n",
       "</thead>\n",
       "<tbody>\n",
       "\t<tr><td>female</td><td> 5.113161</td></tr>\n",
       "\t<tr><td>male  </td><td>19.822011</td></tr>\n",
       "</tbody>\n",
       "</table>\n"
      ],
      "text/latex": [
       "A tibble: 2 × 2\n",
       "\\begin{tabular}{ll}\n",
       " sex & mean\\\\\n",
       " <chr> & <dbl>\\\\\n",
       "\\hline\n",
       "\t female &  5.113161\\\\\n",
       "\t male   & 19.822011\\\\\n",
       "\\end{tabular}\n"
      ],
      "text/markdown": [
       "\n",
       "A tibble: 2 × 2\n",
       "\n",
       "| sex &lt;chr&gt; | mean &lt;dbl&gt; |\n",
       "|---|---|\n",
       "| female |  5.113161 |\n",
       "| male   | 19.822011 |\n",
       "\n"
      ],
      "text/plain": [
       "  sex    mean     \n",
       "1 female  5.113161\n",
       "2 male   19.822011"
      ]
     },
     "metadata": {},
     "output_type": "display_data"
    }
   ],
   "source": [
    "summary <- suicide_sample%>%\n",
    "        group_by(sex) %>%\n",
    "        summarize(mean = mean(suicides.100k.pop))\n",
    "summary"
   ]
  },
  {
   "cell_type": "markdown",
   "id": "4240787f-d2ca-4c91-8c5b-f380bec62312",
   "metadata": {},
   "source": [
    "As we can clearly notice from the priliminary data summary, the mean suicide rates of males are clearly higher than those of women."
   ]
  },
  {
   "cell_type": "markdown",
   "id": "bcce132b-5ce0-41d4-add9-31549dc10678",
   "metadata": {},
   "source": [
    "# Methods: Plan"
   ]
  },
  {
   "cell_type": "markdown",
   "id": "1b4fc48b-19d4-4a31-9d4e-d6c5763874d6",
   "metadata": {},
   "source": [
    "This report compares the differences of suicide rate in Canada from 1985 and 2013, it focuses on the gender and has a wide time period ranging from 1985 to 2013. This report analyzes data by using both bootstrapping and asymptotic methods. It’s trustworthy because the hypothesis is tested in a straightforward way of deriving estimates. Plus, the sample we are using is relatively large so the result we get will be reliable. However, if we don’t use the bootstrapping method and the asymptotic analysis to verify the hypothesis, the result we get would be susceptible to outliers or other facts."
   ]
  },
  {
   "cell_type": "markdown",
   "id": "74f2b8c1-23e0-442c-a2fb-33e41eb174c8",
   "metadata": {},
   "source": [
    "# References"
   ]
  },
  {
   "cell_type": "markdown",
   "id": "9166b290-3146-4aee-a65a-cafb365ff60a",
   "metadata": {},
   "source": [
    "Rusty. “Suicide Rates Overview 1985 to 2016e.” Kaggle, 1 Dec. 2018, https://www.kaggle.com/datasets/russellyates88/suicide-rates-overview-1985-to-2016.   \n",
    "\n",
    "Freeman, Aislinné et al. “A Cross-National Study on Gender Differences in Suicide Intent - BMC Psychiatry.” BioMed Central, BioMed Central, 29 June 2017, https://bmcpsychiatry.biomedcentral.com/articles/10.1186/s12888-017-1398-8.  \n",
    "\n",
    "Elflein, John. “Distribution of Deaths Canada by Cause 2020.” Statista, 4 Mar. 2022, https://www.statista.com/statistics/437880/proportion-of-deaths-in-canada-by-disease/#:~:text=However%2C%20the%20leading%20causes%20of,43.9%20percent%20of%20all%20deaths.   \n"
   ]
  },
  {
   "cell_type": "code",
   "execution_count": null,
   "id": "fb944161-9ca6-47eb-94cc-e553f6f1b30b",
   "metadata": {},
   "outputs": [],
   "source": []
  }
 ],
 "metadata": {
  "kernelspec": {
   "display_name": "R",
   "language": "R",
   "name": "ir"
  },
  "language_info": {
   "codemirror_mode": "r",
   "file_extension": ".r",
   "mimetype": "text/x-r-source",
   "name": "R",
   "pygments_lexer": "r",
   "version": "4.1.3"
  }
 },
 "nbformat": 4,
 "nbformat_minor": 5
}
