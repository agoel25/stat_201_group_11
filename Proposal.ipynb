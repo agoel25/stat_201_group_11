{
 "cells": [
  {
   "cell_type": "markdown",
   "id": "b39a6a7e-322a-4232-8186-cdca0a21d2e2",
   "metadata": {},
   "source": [
    "# Title\n",
    "### Group 11 Project Proposal\n",
    "##### Group Members: \n",
    "Jialu Jin   24403594\n",
    "<br>Aditya Goel\n",
    "<br>Yirui Wang 27719509\n",
    "<br>Aaron Cui"
   ]
  },
  {
   "cell_type": "markdown",
   "id": "998102bd-09da-4a33-bb6e-47ad3379eb2b",
   "metadata": {},
   "source": [
    "# Introduction\n"
   ]
  },
  {
   "cell_type": "code",
   "execution_count": null,
   "id": "a8f686fe-f389-404a-b6e9-45714a83daef",
   "metadata": {},
   "outputs": [],
   "source": []
  },
  {
   "cell_type": "code",
   "execution_count": null,
   "id": "04afba98-0c98-417d-b4d1-535fae4a9835",
   "metadata": {},
   "outputs": [],
   "source": []
  },
  {
   "cell_type": "code",
   "execution_count": null,
   "id": "49f45226-d9c9-4844-8c57-c98f85345c18",
   "metadata": {},
   "outputs": [],
   "source": []
  },
  {
   "cell_type": "markdown",
   "id": "715bef19-c0f4-407e-b780-912af6d8d461",
   "metadata": {},
   "source": [
    "# Preliminary Results"
   ]
  },
  {
   "cell_type": "code",
   "execution_count": null,
   "id": "aa2295d4-2cad-4f41-83d9-2d93726a7561",
   "metadata": {},
   "outputs": [],
   "source": []
  },
  {
   "cell_type": "code",
   "execution_count": null,
   "id": "b98b5ce5-3af8-4ca0-83b6-7dafa9a33252",
   "metadata": {},
   "outputs": [],
   "source": []
  },
  {
   "cell_type": "code",
   "execution_count": null,
   "id": "ca699411-1676-4246-92b9-435132593f16",
   "metadata": {},
   "outputs": [],
   "source": []
  },
  {
   "cell_type": "markdown",
   "id": "bcce132b-5ce0-41d4-add9-31549dc10678",
   "metadata": {},
   "source": [
    "# Methods: Plan"
   ]
  },
  {
   "cell_type": "code",
   "execution_count": null,
   "id": "5a2c2b28-feef-4fdc-b1a5-accc5219a6d3",
   "metadata": {},
   "outputs": [],
   "source": []
  },
  {
   "cell_type": "code",
   "execution_count": null,
   "id": "8a797e83-d9e6-4564-a467-0500ad8e05f2",
   "metadata": {},
   "outputs": [],
   "source": []
  },
  {
   "cell_type": "code",
   "execution_count": null,
   "id": "7968a6bc-c8ea-4817-a05c-12b3e8c12e77",
   "metadata": {},
   "outputs": [],
   "source": []
  },
  {
   "cell_type": "markdown",
   "id": "74f2b8c1-23e0-442c-a2fb-33e41eb174c8",
   "metadata": {},
   "source": [
    "# References"
   ]
  },
  {
   "cell_type": "code",
   "execution_count": null,
   "id": "21868869-8a04-479f-b4e4-591912d0ee50",
   "metadata": {},
   "outputs": [],
   "source": []
  },
  {
   "cell_type": "code",
   "execution_count": null,
   "id": "de653f22-5850-4856-97d8-f622ffadf3de",
   "metadata": {},
   "outputs": [],
   "source": []
  }
 ],
 "metadata": {
  "kernelspec": {
   "display_name": "R",
   "language": "R",
   "name": "ir"
  },
  "language_info": {
   "codemirror_mode": "r",
   "file_extension": ".r",
   "mimetype": "text/x-r-source",
   "name": "R",
   "pygments_lexer": "r",
   "version": "4.1.3"
  }
 },
 "nbformat": 4,
 "nbformat_minor": 5
}
