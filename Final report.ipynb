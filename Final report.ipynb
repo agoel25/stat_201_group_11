{
 "cells": [
  {
   "cell_type": "markdown",
   "id": "b39a6a7e-322a-4232-8186-cdca0a21d2e2",
   "metadata": {},
   "source": [
    "# Gender and Mean Suicide Rates in Canada\n",
    "### Group 11 Final Report\n",
    "##### Group Members: \n",
    "Aaron Cui (94952777)\n",
    "<br>Aditya Goel (84874379)\n",
    "<br>Jialu Jin (24403594)\n",
    "<br>Yirui Wang (27719509)"
   ]
  },
  {
   "cell_type": "markdown",
   "id": "998102bd-09da-4a33-bb6e-47ad3379eb2b",
   "metadata": {},
   "source": [
    "### Introduction\n"
   ]
  },
  {
   "cell_type": "markdown",
   "id": "90a5ef53-5921-4978-a7d0-bfcebefbb10c",
   "metadata": {},
   "source": [
    "Suicide is a prevalent cause of death in Canada, accounting for 1.2% of all deaths in the year 2020 (Elflein, 2020). Past research has led us to believe that there may a difference in the mean suicide rates between men and women, therefore we are interested in further studying this phenomenon (Freeman et al., 2017). As a result, our research question for this project is: **Is there a significant difference between the mean suicide rates of males and females in Canada between 1985 and 2013?** We will be using the \"Suicide Rates Overview 1985 to 2016\" (Rusty, 2018) dataset sourced from Kaggle for our analysis, focusing only on the data relevant to Canada. This dataset has 12 columns and 27820 rows. Different columns are different response variables accross the socio-economic spectrum that might affect the suicide rates globally. Finally, the number of suicides per 100,000 people (essentially the suicide rate) will be our response variable, mean the location parameter, and standard deviation the scale parameter. We decided to use mean as it gives a good sense of the center of the data while standard deviation helps us understand the spread; ultimately helping us evaluate the error in our results. "
   ]
  },
  {
   "cell_type": "markdown",
   "id": "715bef19-c0f4-407e-b780-912af6d8d461",
   "metadata": {},
   "source": [
    "### Methods & Results\n",
    "#### Preliminary Results"
   ]
  },
  {
   "cell_type": "code",
   "execution_count": 1,
   "id": "a8f686fe-f389-404a-b6e9-45714a83daef",
   "metadata": {},
   "outputs": [
    {
     "name": "stderr",
     "output_type": "stream",
     "text": [
      "Warning message in system(\"timedatectl\", intern = TRUE):\n",
      "“running command 'timedatectl' had status 1”\n",
      "── \u001b[1mAttaching packages\u001b[22m ─────────────────────────────────────── tidyverse 1.3.2 ──\n",
      "\u001b[32m✔\u001b[39m \u001b[34mggplot2\u001b[39m 3.4.0     \u001b[32m✔\u001b[39m \u001b[34mpurrr  \u001b[39m 0.3.4\n",
      "\u001b[32m✔\u001b[39m \u001b[34mtibble \u001b[39m 3.1.8     \u001b[32m✔\u001b[39m \u001b[34mdplyr  \u001b[39m 1.0.9\n",
      "\u001b[32m✔\u001b[39m \u001b[34mtidyr  \u001b[39m 1.2.0     \u001b[32m✔\u001b[39m \u001b[34mstringr\u001b[39m 1.4.1\n",
      "\u001b[32m✔\u001b[39m \u001b[34mreadr  \u001b[39m 2.1.2     \u001b[32m✔\u001b[39m \u001b[34mforcats\u001b[39m 0.5.2\n",
      "── \u001b[1mConflicts\u001b[22m ────────────────────────────────────────── tidyverse_conflicts() ──\n",
      "\u001b[31m✖\u001b[39m \u001b[34mdplyr\u001b[39m::\u001b[32mfilter()\u001b[39m masks \u001b[34mstats\u001b[39m::filter()\n",
      "\u001b[31m✖\u001b[39m \u001b[34mdplyr\u001b[39m::\u001b[32mlag()\u001b[39m    masks \u001b[34mstats\u001b[39m::lag()\n",
      "── \u001b[1mAttaching packages\u001b[22m ────────────────────────────────────── tidymodels 1.0.0 ──\n",
      "\n",
      "\u001b[32m✔\u001b[39m \u001b[34mbroom       \u001b[39m 1.0.1     \u001b[32m✔\u001b[39m \u001b[34mrsample     \u001b[39m 1.1.0\n",
      "\u001b[32m✔\u001b[39m \u001b[34mdials       \u001b[39m 1.0.0     \u001b[32m✔\u001b[39m \u001b[34mtune        \u001b[39m 1.0.1\n",
      "\u001b[32m✔\u001b[39m \u001b[34mmodeldata   \u001b[39m 1.0.1     \u001b[32m✔\u001b[39m \u001b[34mworkflows   \u001b[39m 1.1.0\n",
      "\u001b[32m✔\u001b[39m \u001b[34mparsnip     \u001b[39m 1.0.2     \u001b[32m✔\u001b[39m \u001b[34mworkflowsets\u001b[39m 1.0.0\n",
      "\u001b[32m✔\u001b[39m \u001b[34mrecipes     \u001b[39m 1.0.1     \u001b[32m✔\u001b[39m \u001b[34myardstick   \u001b[39m 1.1.0\n",
      "\n",
      "── \u001b[1mConflicts\u001b[22m ───────────────────────────────────────── tidymodels_conflicts() ──\n",
      "\u001b[31m✖\u001b[39m \u001b[34mscales\u001b[39m::\u001b[32mdiscard()\u001b[39m masks \u001b[34mpurrr\u001b[39m::discard()\n",
      "\u001b[31m✖\u001b[39m \u001b[34mdplyr\u001b[39m::\u001b[32mfilter()\u001b[39m   masks \u001b[34mstats\u001b[39m::filter()\n",
      "\u001b[31m✖\u001b[39m \u001b[34mrecipes\u001b[39m::\u001b[32mfixed()\u001b[39m  masks \u001b[34mstringr\u001b[39m::fixed()\n",
      "\u001b[31m✖\u001b[39m \u001b[34mdplyr\u001b[39m::\u001b[32mlag()\u001b[39m      masks \u001b[34mstats\u001b[39m::lag()\n",
      "\u001b[31m✖\u001b[39m \u001b[34myardstick\u001b[39m::\u001b[32mspec()\u001b[39m masks \u001b[34mreadr\u001b[39m::spec()\n",
      "\u001b[31m✖\u001b[39m \u001b[34mrecipes\u001b[39m::\u001b[32mstep()\u001b[39m   masks \u001b[34mstats\u001b[39m::step()\n",
      "\u001b[34m•\u001b[39m Use \u001b[32mtidymodels_prefer()\u001b[39m to resolve common conflicts.\n",
      "\n",
      "Registered S3 method overwritten by 'GGally':\n",
      "  method from   \n",
      "  +.gg   ggplot2\n",
      "\n",
      "\n",
      "Attaching package: ‘RCurl’\n",
      "\n",
      "\n",
      "The following object is masked from ‘package:tidyr’:\n",
      "\n",
      "    complete\n",
      "\n",
      "\n"
     ]
    }
   ],
   "source": [
    "# loading all the necessary libraries\n",
    "set.seed(123)\n",
    "library(infer)\n",
    "library(repr)\n",
    "library(tidyverse)\n",
    "library(readxl)\n",
    "library(digest)\n",
    "library(dplyr)\n",
    "library(tidymodels)\n",
    "library(GGally)\n",
    "library(RCurl)\n",
    "library(ggplot2)\n",
    "\n",
    "# setting the maximum rows to be displayed to 6\n",
    "options(repr.matrix.max.rows = 6)"
   ]
  },
  {
   "cell_type": "markdown",
   "id": "8c804bce-2b4f-4069-b994-c99b86cb2204",
   "metadata": {},
   "source": [
    "We downloaded the dataset from the web and put it in our repository in the data folder."
   ]
  },
  {
   "cell_type": "code",
   "execution_count": 2,
   "id": "5112b08e-758b-43ce-b575-5e04fce18236",
   "metadata": {},
   "outputs": [
    {
     "data": {
      "text/html": [
       "<table class=\"dataframe\">\n",
       "<caption>A data.frame: 6 × 12</caption>\n",
       "<thead>\n",
       "\t<tr><th></th><th scope=col>country</th><th scope=col>year</th><th scope=col>sex</th><th scope=col>age</th><th scope=col>suicides_no</th><th scope=col>population</th><th scope=col>suicides.100k.pop</th><th scope=col>country.year</th><th scope=col>HDI.for.year</th><th scope=col>gdp_for_year....</th><th scope=col>gdp_per_capita....</th><th scope=col>generation</th></tr>\n",
       "\t<tr><th></th><th scope=col>&lt;chr&gt;</th><th scope=col>&lt;int&gt;</th><th scope=col>&lt;chr&gt;</th><th scope=col>&lt;chr&gt;</th><th scope=col>&lt;int&gt;</th><th scope=col>&lt;int&gt;</th><th scope=col>&lt;dbl&gt;</th><th scope=col>&lt;chr&gt;</th><th scope=col>&lt;dbl&gt;</th><th scope=col>&lt;chr&gt;</th><th scope=col>&lt;int&gt;</th><th scope=col>&lt;chr&gt;</th></tr>\n",
       "</thead>\n",
       "<tbody>\n",
       "\t<tr><th scope=row>1</th><td>Albania</td><td>1987</td><td>male  </td><td>15-24 years</td><td>21</td><td>312900</td><td>6.71</td><td>Albania1987</td><td>NA</td><td>2,156,624,900</td><td>796</td><td>Generation X   </td></tr>\n",
       "\t<tr><th scope=row>2</th><td>Albania</td><td>1987</td><td>male  </td><td>35-54 years</td><td>16</td><td>308000</td><td>5.19</td><td>Albania1987</td><td>NA</td><td>2,156,624,900</td><td>796</td><td>Silent         </td></tr>\n",
       "\t<tr><th scope=row>3</th><td>Albania</td><td>1987</td><td>female</td><td>15-24 years</td><td>14</td><td>289700</td><td>4.83</td><td>Albania1987</td><td>NA</td><td>2,156,624,900</td><td>796</td><td>Generation X   </td></tr>\n",
       "\t<tr><th scope=row>4</th><td>Albania</td><td>1987</td><td>male  </td><td>75+ years  </td><td> 1</td><td> 21800</td><td>4.59</td><td>Albania1987</td><td>NA</td><td>2,156,624,900</td><td>796</td><td>G.I. Generation</td></tr>\n",
       "\t<tr><th scope=row>5</th><td>Albania</td><td>1987</td><td>male  </td><td>25-34 years</td><td> 9</td><td>274300</td><td>3.28</td><td>Albania1987</td><td>NA</td><td>2,156,624,900</td><td>796</td><td>Boomers        </td></tr>\n",
       "\t<tr><th scope=row>6</th><td>Albania</td><td>1987</td><td>female</td><td>75+ years  </td><td> 1</td><td> 35600</td><td>2.81</td><td>Albania1987</td><td>NA</td><td>2,156,624,900</td><td>796</td><td>G.I. Generation</td></tr>\n",
       "</tbody>\n",
       "</table>\n"
      ],
      "text/latex": [
       "A data.frame: 6 × 12\n",
       "\\begin{tabular}{r|llllllllllll}\n",
       "  & country & year & sex & age & suicides\\_no & population & suicides.100k.pop & country.year & HDI.for.year & gdp\\_for\\_year.... & gdp\\_per\\_capita.... & generation\\\\\n",
       "  & <chr> & <int> & <chr> & <chr> & <int> & <int> & <dbl> & <chr> & <dbl> & <chr> & <int> & <chr>\\\\\n",
       "\\hline\n",
       "\t1 & Albania & 1987 & male   & 15-24 years & 21 & 312900 & 6.71 & Albania1987 & NA & 2,156,624,900 & 796 & Generation X   \\\\\n",
       "\t2 & Albania & 1987 & male   & 35-54 years & 16 & 308000 & 5.19 & Albania1987 & NA & 2,156,624,900 & 796 & Silent         \\\\\n",
       "\t3 & Albania & 1987 & female & 15-24 years & 14 & 289700 & 4.83 & Albania1987 & NA & 2,156,624,900 & 796 & Generation X   \\\\\n",
       "\t4 & Albania & 1987 & male   & 75+ years   &  1 &  21800 & 4.59 & Albania1987 & NA & 2,156,624,900 & 796 & G.I. Generation\\\\\n",
       "\t5 & Albania & 1987 & male   & 25-34 years &  9 & 274300 & 3.28 & Albania1987 & NA & 2,156,624,900 & 796 & Boomers        \\\\\n",
       "\t6 & Albania & 1987 & female & 75+ years   &  1 &  35600 & 2.81 & Albania1987 & NA & 2,156,624,900 & 796 & G.I. Generation\\\\\n",
       "\\end{tabular}\n"
      ],
      "text/markdown": [
       "\n",
       "A data.frame: 6 × 12\n",
       "\n",
       "| <!--/--> | country &lt;chr&gt; | year &lt;int&gt; | sex &lt;chr&gt; | age &lt;chr&gt; | suicides_no &lt;int&gt; | population &lt;int&gt; | suicides.100k.pop &lt;dbl&gt; | country.year &lt;chr&gt; | HDI.for.year &lt;dbl&gt; | gdp_for_year.... &lt;chr&gt; | gdp_per_capita.... &lt;int&gt; | generation &lt;chr&gt; |\n",
       "|---|---|---|---|---|---|---|---|---|---|---|---|---|\n",
       "| 1 | Albania | 1987 | male   | 15-24 years | 21 | 312900 | 6.71 | Albania1987 | NA | 2,156,624,900 | 796 | Generation X    |\n",
       "| 2 | Albania | 1987 | male   | 35-54 years | 16 | 308000 | 5.19 | Albania1987 | NA | 2,156,624,900 | 796 | Silent          |\n",
       "| 3 | Albania | 1987 | female | 15-24 years | 14 | 289700 | 4.83 | Albania1987 | NA | 2,156,624,900 | 796 | Generation X    |\n",
       "| 4 | Albania | 1987 | male   | 75+ years   |  1 |  21800 | 4.59 | Albania1987 | NA | 2,156,624,900 | 796 | G.I. Generation |\n",
       "| 5 | Albania | 1987 | male   | 25-34 years |  9 | 274300 | 3.28 | Albania1987 | NA | 2,156,624,900 | 796 | Boomers         |\n",
       "| 6 | Albania | 1987 | female | 75+ years   |  1 |  35600 | 2.81 | Albania1987 | NA | 2,156,624,900 | 796 | G.I. Generation |\n",
       "\n"
      ],
      "text/plain": [
       "  country year sex    age         suicides_no population suicides.100k.pop\n",
       "1 Albania 1987 male   15-24 years 21          312900     6.71             \n",
       "2 Albania 1987 male   35-54 years 16          308000     5.19             \n",
       "3 Albania 1987 female 15-24 years 14          289700     4.83             \n",
       "4 Albania 1987 male   75+ years    1           21800     4.59             \n",
       "5 Albania 1987 male   25-34 years  9          274300     3.28             \n",
       "6 Albania 1987 female 75+ years    1           35600     2.81             \n",
       "  country.year HDI.for.year gdp_for_year.... gdp_per_capita.... generation     \n",
       "1 Albania1987  NA           2,156,624,900    796                Generation X   \n",
       "2 Albania1987  NA           2,156,624,900    796                Silent         \n",
       "3 Albania1987  NA           2,156,624,900    796                Generation X   \n",
       "4 Albania1987  NA           2,156,624,900    796                G.I. Generation\n",
       "5 Albania1987  NA           2,156,624,900    796                Boomers        \n",
       "6 Albania1987  NA           2,156,624,900    796                G.I. Generation"
      ]
     },
     "metadata": {},
     "output_type": "display_data"
    }
   ],
   "source": [
    "# loading the data from the data folder and displaying the head (first 6 rows)\n",
    "# the data was downloaded from the following link: \"https://www.kaggle.com/datasets/russellyates88/suicide-rates-overview-1985-to-2016\"\n",
    "suicide_data <- read.csv(\"https://raw.githubusercontent.com/agoel25/stat_201_group_11/main/data/master.csv\")\n",
    "head(suicide_data)"
   ]
  },
  {
   "cell_type": "markdown",
   "id": "60f21cb9-9c46-478e-b8b5-773fd410cd33",
   "metadata": {},
   "source": [
    "We cleaned and wrangled the data by filtering only Canada and selecting \"sex\", \"year\", \"age\" and \"suicides.100k.pop\" columns. "
   ]
  },
  {
   "cell_type": "code",
   "execution_count": 3,
   "id": "1e36b80a-a504-4abe-b6b3-d6eb160abe69",
   "metadata": {},
   "outputs": [
    {
     "data": {
      "text/html": [
       "<table class=\"dataframe\">\n",
       "<caption>A data.frame: 6 × 4</caption>\n",
       "<thead>\n",
       "\t<tr><th></th><th scope=col>sex</th><th scope=col>year</th><th scope=col>age</th><th scope=col>suicides.100k.pop</th></tr>\n",
       "\t<tr><th></th><th scope=col>&lt;chr&gt;</th><th scope=col>&lt;int&gt;</th><th scope=col>&lt;chr&gt;</th><th scope=col>&lt;dbl&gt;</th></tr>\n",
       "</thead>\n",
       "<tbody>\n",
       "\t<tr><th scope=row>1</th><td>male  </td><td>1985</td><td>75+ years  </td><td>28.45</td></tr>\n",
       "\t<tr><th scope=row>2</th><td>male  </td><td>1985</td><td>55-74 years</td><td>27.27</td></tr>\n",
       "\t<tr><th scope=row>3</th><td>male  </td><td>1985</td><td>25-34 years</td><td>27.00</td></tr>\n",
       "\t<tr><th scope=row>4</th><td>male  </td><td>1985</td><td>35-54 years</td><td>25.40</td></tr>\n",
       "\t<tr><th scope=row>5</th><td>male  </td><td>1985</td><td>15-24 years</td><td>25.17</td></tr>\n",
       "\t<tr><th scope=row>6</th><td>female</td><td>1985</td><td>35-54 years</td><td> 8.43</td></tr>\n",
       "</tbody>\n",
       "</table>\n"
      ],
      "text/latex": [
       "A data.frame: 6 × 4\n",
       "\\begin{tabular}{r|llll}\n",
       "  & sex & year & age & suicides.100k.pop\\\\\n",
       "  & <chr> & <int> & <chr> & <dbl>\\\\\n",
       "\\hline\n",
       "\t1 & male   & 1985 & 75+ years   & 28.45\\\\\n",
       "\t2 & male   & 1985 & 55-74 years & 27.27\\\\\n",
       "\t3 & male   & 1985 & 25-34 years & 27.00\\\\\n",
       "\t4 & male   & 1985 & 35-54 years & 25.40\\\\\n",
       "\t5 & male   & 1985 & 15-24 years & 25.17\\\\\n",
       "\t6 & female & 1985 & 35-54 years &  8.43\\\\\n",
       "\\end{tabular}\n"
      ],
      "text/markdown": [
       "\n",
       "A data.frame: 6 × 4\n",
       "\n",
       "| <!--/--> | sex &lt;chr&gt; | year &lt;int&gt; | age &lt;chr&gt; | suicides.100k.pop &lt;dbl&gt; |\n",
       "|---|---|---|---|---|\n",
       "| 1 | male   | 1985 | 75+ years   | 28.45 |\n",
       "| 2 | male   | 1985 | 55-74 years | 27.27 |\n",
       "| 3 | male   | 1985 | 25-34 years | 27.00 |\n",
       "| 4 | male   | 1985 | 35-54 years | 25.40 |\n",
       "| 5 | male   | 1985 | 15-24 years | 25.17 |\n",
       "| 6 | female | 1985 | 35-54 years |  8.43 |\n",
       "\n"
      ],
      "text/plain": [
       "  sex    year age         suicides.100k.pop\n",
       "1 male   1985 75+ years   28.45            \n",
       "2 male   1985 55-74 years 27.27            \n",
       "3 male   1985 25-34 years 27.00            \n",
       "4 male   1985 35-54 years 25.40            \n",
       "5 male   1985 15-24 years 25.17            \n",
       "6 female 1985 35-54 years  8.43            "
      ]
     },
     "metadata": {},
     "output_type": "display_data"
    }
   ],
   "source": [
    "# filtering for Canada (as our question specifically focuses on Canada) and selecting the appropriate columns\n",
    "suicide_sample <- suicide_data %>%\n",
    "                  filter(country %in% c(\"Canada\")) %>%\n",
    "                  select(sex, year, age, suicides.100k.pop)\n",
    "head(suicide_sample)"
   ]
  },
  {
   "cell_type": "markdown",
   "id": "4cc067ab-41c9-495c-b60a-dee2e7aaa7f4",
   "metadata": {},
   "source": [
    "We plot a boxplot of number of suicides per 100k population for different sex."
   ]
  },
  {
   "cell_type": "code",
   "execution_count": 4,
   "id": "9522a368-d191-4277-b633-72b600920acb",
   "metadata": {},
   "outputs": [
    {
     "data": {
      "image/png": "[encoded data removed]",
      "text/plain": [
       "plot without title"
      ]
     },
     "metadata": {
      "image/png": {
       "height": 420,
       "width": 420
      }
     },
     "output_type": "display_data"
    }
   ],
   "source": [
    "# plotting the boxplot of suicides per 100k population for males and females\n",
    "boxplot <- suicide_sample %>%\n",
    "    ggplot(aes(sex, suicides.100k.pop)) + \n",
    "    geom_boxplot() +\n",
    "    ggtitle(\"Fig.1 Boxplot of number of suicides per 100k population in Canada for 2 sexes\") +\n",
    "    xlab(\"Sex\") +\n",
    "    ylab(\"Number of Suicides per 100,000 people\")\n",
    "boxplot"
   ]
  },
  {
   "cell_type": "markdown",
   "id": "de9ab657-5cf8-432d-9bb1-41f45bcb03fd",
   "metadata": {},
   "source": [
    "From the boxplot, we can see there are few outliers in the male group. Since they represent the natural variation of the population, there won't be a large influence on our observation/research. The boxplot indicates that the data for the 2 genders doesn't even overlap once we remove the outliers(the suicide rates for males seem to be much higher than those for females). Moreover, the sample variation of male group is much larger than that of the female group, so we will discuss its influence on our hypothesis test in the discussion part."
   ]
  },
  {
   "cell_type": "markdown",
   "id": "92adbc7f-ec21-4c9c-87a6-bc69da839123",
   "metadata": {},
   "source": [
    "<br>\n",
    "We also plot a histogram of Sample distribution of number of suicides per 100k population in Canada for 2 sex groups."
   ]
  },
  {
   "cell_type": "code",
   "execution_count": 5,
   "id": "452ac23e-e46e-4b6a-a57f-f9a187ec5b00",
   "metadata": {},
   "outputs": [
    {
     "data": {
      "image/png": "[encoded data removed]",
      "text/plain": [
       "plot without title"
      ]
     },
     "metadata": {
      "image/png": {
       "height": 420,
       "width": 420
      }
     },
     "output_type": "display_data"
    }
   ],
   "source": [
    "# plotting the sample distribution of suicides per 100k population for males and females\n",
    "histogram <- suicide_sample %>%\n",
    "    ggplot(aes(x = suicides.100k.pop, fill = sex)) +\n",
    "    geom_histogram(bins=30, color=\"#374652\", alpha=0.6, position = 'identity') +\n",
    "    scale_fill_manual(values=c(\"#985473\", \"#036425\")) +\n",
    "    ggtitle(\"Fig.2 Sample distribution of number of suicides per 100k population in Canada for 2 sexes\")+\n",
    "    xlab(\"Number of Suicides per 100,000 people\") +\n",
    "    ylab(\"Count\") +\n",
    "    labs(fill=\"\") +\n",
    "    theme(text = element_text(size = 10))\n",
    "histogram"
   ]
  },
  {
   "cell_type": "markdown",
   "id": "8146b805-30a1-4046-aff6-4d4ae608a516",
   "metadata": {},
   "source": [
    "From the histogram, the sample distribution varies a lot for different genders. This means that there is a difference of the mean number of suicides per 100k population for two genders. The data for both the genders doesn't really follow a normal distribution. There is a big spike at ~0 suicides per 100,000 for both males and females. "
   ]
  },
  {
   "cell_type": "markdown",
   "id": "22e607d6-837b-4af3-973c-c832c239c0d0",
   "metadata": {},
   "source": [
    "<br>\n",
    "The following is the summary statistics (sample means of suicide rates for females and males). We can clearly see that the mean suicide rates of males is higher than females. "
   ]
  },
  {
   "cell_type": "code",
   "execution_count": 6,
   "id": "6467516c-0201-4ed3-a7e2-2d7bf5edf0ea",
   "metadata": {},
   "outputs": [
    {
     "data": {
      "text/html": [
       "<table class=\"dataframe\">\n",
       "<caption>A tibble: 2 × 2</caption>\n",
       "<thead>\n",
       "\t<tr><th scope=col>sex</th><th scope=col>mean</th></tr>\n",
       "\t<tr><th scope=col>&lt;chr&gt;</th><th scope=col>&lt;dbl&gt;</th></tr>\n",
       "</thead>\n",
       "<tbody>\n",
       "\t<tr><td>female</td><td> 5.113161</td></tr>\n",
       "\t<tr><td>male  </td><td>19.822011</td></tr>\n",
       "</tbody>\n",
       "</table>\n"
      ],
      "text/latex": [
       "A tibble: 2 × 2\n",
       "\\begin{tabular}{ll}\n",
       " sex & mean\\\\\n",
       " <chr> & <dbl>\\\\\n",
       "\\hline\n",
       "\t female &  5.113161\\\\\n",
       "\t male   & 19.822011\\\\\n",
       "\\end{tabular}\n"
      ],
      "text/markdown": [
       "\n",
       "A tibble: 2 × 2\n",
       "\n",
       "| sex &lt;chr&gt; | mean &lt;dbl&gt; |\n",
       "|---|---|\n",
       "| female |  5.113161 |\n",
       "| male   | 19.822011 |\n",
       "\n"
      ],
      "text/plain": [
       "  sex    mean     \n",
       "1 female  5.113161\n",
       "2 male   19.822011"
      ]
     },
     "metadata": {},
     "output_type": "display_data"
    }
   ],
   "source": [
    "# calculating the point estimates from our sample for the 2 population groups, that is \n",
    "# calculating the mean suicide rates for males and females in Canada\n",
    "summary <- suicide_sample%>%\n",
    "        group_by(sex) %>%\n",
    "        summarize(mean = mean(suicides.100k.pop))\n",
    "summary"
   ]
  },
  {
   "cell_type": "markdown",
   "id": "c4aaf4cb-70cf-48ec-a60b-cffb401434ac",
   "metadata": {},
   "source": [
    "Even though there is a substantial difference in the mean suicide rates (males having a much higher suicde rates than females) we cannot yet be certain about whether this difference is because of actual distinction between the suicide rates or if its simply a result of sampling variation. Hence, we will be using hypothesis tests to get better more reliable conclusion to our question. We expect to find the extent to which the suicide rates vary between males and females in Canada using their mean and standard deviation. Our prediction is that males do have higher suicide rates then females as can be seen in our priliminary results and previous research studies (Freeman et al., 2017)."
   ]
  },
  {
   "cell_type": "markdown",
   "id": "c833fa3d-95af-46a5-92ba-6a929c035927",
   "metadata": {},
   "source": [
    "#### Hypothesis testing\n",
    "The essence of this report is to investivage if the mean suicide rates of males are more than the mean suicide rates of females in Canada. Hence, our null hypothesis will be assuming that they are indeed equal. The null and alternate hypothesis are hence: \n",
    "- $H_0: \\mu_m - \\mu_f = 0$ \n",
    "- $H_1: \\mu_m - \\mu_f > 0$\n",
    "\n",
    "(where $\\mu_m$ means the mean suicide rates of males and $\\mu_f$ means the mean suicide rates of females. \n",
    "\n",
    "We will be conducting hypothesis tests with a significance level of $5\\%$ ($\\alpha = 0.05$). We chose this significance level because $5\\%$ gives us a good balance between the Type 1 error and Type 2 error. It is low enough to not cause a lot of Type 1 error and high enough to not totally disregard the probability of this error. Moreover, since the alternate hypothesis is just a greater than sign, this will be a one-sided hypothesis test.\n",
    "\n",
    "We investigate this using both bootstrap and asymptotic methods, however we first use the bootstrap method. "
   ]
  },
  {
   "cell_type": "markdown",
   "id": "d8729f36-df63-45d0-b085-01068392ae1c",
   "metadata": {},
   "source": [
    "**Bootstrap Method**\n",
    "\n",
    "We use the infer package to form the bootstrap distribution for the difference of means in suicide rates between males and females. We take 1000 bootstrap samples since this ensures a high degree of accuracy while also giving a good enough computation time. Increasing the number of repetitions further would simply lead to a more expensive computation without giving better results or accuracy (any benefits would be marginal). <br>\n",
    "Additionally, the order of calculating the difference doesn't matter but we subtract the mean of females from the mean of males just for correspondance. "
   ]
  },
  {
   "cell_type": "code",
   "execution_count": 7,
   "id": "cb584a41-9cbc-499c-a872-03b3235970a4",
   "metadata": {},
   "outputs": [
    {
     "data": {
      "text/html": [
       "<table class=\"dataframe\">\n",
       "<caption>A infer: 6 × 2</caption>\n",
       "<thead>\n",
       "\t<tr><th scope=col>replicate</th><th scope=col>stat</th></tr>\n",
       "\t<tr><th scope=col>&lt;int&gt;</th><th scope=col>&lt;dbl&gt;</th></tr>\n",
       "</thead>\n",
       "<tbody>\n",
       "\t<tr><td>1</td><td>15.85483</td></tr>\n",
       "\t<tr><td>2</td><td>13.85279</td></tr>\n",
       "\t<tr><td>3</td><td>14.11451</td></tr>\n",
       "\t<tr><td>4</td><td>13.23332</td></tr>\n",
       "\t<tr><td>5</td><td>14.50301</td></tr>\n",
       "\t<tr><td>6</td><td>15.92671</td></tr>\n",
       "</tbody>\n",
       "</table>\n"
      ],
      "text/latex": [
       "A infer: 6 × 2\n",
       "\\begin{tabular}{ll}\n",
       " replicate & stat\\\\\n",
       " <int> & <dbl>\\\\\n",
       "\\hline\n",
       "\t 1 & 15.85483\\\\\n",
       "\t 2 & 13.85279\\\\\n",
       "\t 3 & 14.11451\\\\\n",
       "\t 4 & 13.23332\\\\\n",
       "\t 5 & 14.50301\\\\\n",
       "\t 6 & 15.92671\\\\\n",
       "\\end{tabular}\n"
      ],
      "text/markdown": [
       "\n",
       "A infer: 6 × 2\n",
       "\n",
       "| replicate &lt;int&gt; | stat &lt;dbl&gt; |\n",
       "|---|---|\n",
       "| 1 | 15.85483 |\n",
       "| 2 | 13.85279 |\n",
       "| 3 | 14.11451 |\n",
       "| 4 | 13.23332 |\n",
       "| 5 | 14.50301 |\n",
       "| 6 | 15.92671 |\n",
       "\n"
      ],
      "text/plain": [
       "  replicate stat    \n",
       "1 1         15.85483\n",
       "2 2         13.85279\n",
       "3 3         14.11451\n",
       "4 4         13.23332\n",
       "5 5         14.50301\n",
       "6 6         15.92671"
      ]
     },
     "metadata": {},
     "output_type": "display_data"
    }
   ],
   "source": [
    "# setting seed to ensure reproducibility\n",
    "set.seed(123)\n",
    "# take 1000 bootstrap samples and calculate the difference in means for each sample\n",
    "bootstrap_dist <- \n",
    "    suicide_sample %>% \n",
    "    specify(formula = suicides.100k.pop ~ sex) %>% # suicides per 100k population is set as the response variance and \n",
    "                                                   # sex is set as the explanatory variable\n",
    "    generate(reps = 1000, type = \"bootstrap\") %>% # generating 1000 bootstrap samples \n",
    "    calculate(stat = \"diff in means\", order = c(\"male\", \"female\")) # calculating the difference in means\n",
    "head(bootstrap_dist)"
   ]
  },
  {
   "cell_type": "markdown",
   "id": "70603f3e-7fd4-46be-a821-f14ddf9369fa",
   "metadata": {},
   "source": [
    "Next we calculate the observed test statistic of our sample. This is simply the difference in suicide rates which we observe in the real world in our sample, under no influence of the null hypothesis. "
   ]
  },
  {
   "cell_type": "code",
   "execution_count": 8,
   "id": "10578698-c64b-4743-bfee-8b23cb4b90fb",
   "metadata": {},
   "outputs": [
    {
     "name": "stdout",
     "output_type": "stream",
     "text": [
      "The observed difference of means is 14.70885"
     ]
    }
   ],
   "source": [
    "# calculate the observed test statistic\n",
    "obs_test_stat <- suicide_sample %>% \n",
    "        specify(formula = suicides.100k.pop ~ sex) %>% # suicides per 100k population is set as the response variance \n",
    "                                                       # and sex is set as the explanatory variable\n",
    "        calculate(stat = \"diff in means\", order = c(\"male\", \"female\")) %>%\n",
    "        pull()\n",
    "cat(\"The observed difference of means is\", obs_test_stat)"
   ]
  },
  {
   "cell_type": "markdown",
   "id": "a306e039-6229-4260-a6c9-68ec26d7ab7d",
   "metadata": {},
   "source": [
    "Now, we simply plot the observed test statistic over the bootstrap distribution of our sample. This gives us an idea of the reliability of the test statistic. "
   ]
  },
  {
   "cell_type": "code",
   "execution_count": 9,
   "id": "d8a71e3f-f12d-41b7-a854-25d8a7aedee7",
   "metadata": {},
   "outputs": [
    {
     "data": {
      "image/png": "[encoded data removed]",
      "text/plain": [
       "plot without title"
      ]
     },
     "metadata": {
      "image/png": {
       "height": 420,
       "width": 420
      }
     },
     "output_type": "display_data"
    }
   ],
   "source": [
    "# plot the bootstrap distribution with a red vertical line indicating the observed test statistic\n",
    "bootstrap_dist_plot <-\n",
    "    bootstrap_dist %>%\n",
    "    ggplot() +\n",
    "    geom_histogram(aes(x=stat), bins = 15, color=\"white\") +\n",
    "    geom_vline(xintercept = obs_test_stat, color = \"red\") +\n",
    "    ggtitle(\"Fig.3 Bootstrap distribution of number of suicides per 100k population in Canada for 2 sexes\")\n",
    "bootstrap_dist_plot"
   ]
  },
  {
   "cell_type": "markdown",
   "id": "66ef5b38-75ca-412b-bfa1-7f6e415d2482",
   "metadata": {},
   "source": [
    "Next, we form the null distribution. This is bootstrap distribution of the sample under the null hypothesis. We adjust all the values to have the center of the distribution to be at 0 since our null hypothesis assumes that the difference in means is equal to 0. "
   ]
  },
  {
   "cell_type": "code",
   "execution_count": 10,
   "id": "6d7fbc9f-8c55-4ff7-bb8e-fb53f39a5fb7",
   "metadata": {},
   "outputs": [
    {
     "data": {
      "text/html": [
       "<table class=\"dataframe\">\n",
       "<caption>A infer: 6 × 2</caption>\n",
       "<thead>\n",
       "\t<tr><th scope=col>replicate</th><th scope=col>stat</th></tr>\n",
       "\t<tr><th scope=col>&lt;int&gt;</th><th scope=col>&lt;dbl&gt;</th></tr>\n",
       "</thead>\n",
       "<tbody>\n",
       "\t<tr><td>1</td><td> 1.1459803</td></tr>\n",
       "\t<tr><td>2</td><td>-0.8560590</td></tr>\n",
       "\t<tr><td>3</td><td>-0.5943426</td></tr>\n",
       "\t<tr><td>4</td><td>-1.4755307</td></tr>\n",
       "\t<tr><td>5</td><td>-0.2058419</td></tr>\n",
       "\t<tr><td>6</td><td> 1.2178606</td></tr>\n",
       "</tbody>\n",
       "</table>\n"
      ],
      "text/latex": [
       "A infer: 6 × 2\n",
       "\\begin{tabular}{ll}\n",
       " replicate & stat\\\\\n",
       " <int> & <dbl>\\\\\n",
       "\\hline\n",
       "\t 1 &  1.1459803\\\\\n",
       "\t 2 & -0.8560590\\\\\n",
       "\t 3 & -0.5943426\\\\\n",
       "\t 4 & -1.4755307\\\\\n",
       "\t 5 & -0.2058419\\\\\n",
       "\t 6 &  1.2178606\\\\\n",
       "\\end{tabular}\n"
      ],
      "text/markdown": [
       "\n",
       "A infer: 6 × 2\n",
       "\n",
       "| replicate &lt;int&gt; | stat &lt;dbl&gt; |\n",
       "|---|---|\n",
       "| 1 |  1.1459803 |\n",
       "| 2 | -0.8560590 |\n",
       "| 3 | -0.5943426 |\n",
       "| 4 | -1.4755307 |\n",
       "| 5 | -0.2058419 |\n",
       "| 6 |  1.2178606 |\n",
       "\n"
      ],
      "text/plain": [
       "  replicate stat      \n",
       "1 1          1.1459803\n",
       "2 2         -0.8560590\n",
       "3 3         -0.5943426\n",
       "4 4         -1.4755307\n",
       "5 5         -0.2058419\n",
       "6 6          1.2178606"
      ]
     },
     "metadata": {},
     "output_type": "display_data"
    }
   ],
   "source": [
    "# adjust the center of our bootstrap distribution to 0 and call it null_dist\n",
    "null_dist <- \n",
    "     bootstrap_dist %>%\n",
    "     mutate(stat=stat-(obs_test_stat-0))\n",
    "head(null_dist)"
   ]
  },
  {
   "cell_type": "markdown",
   "id": "01717002-4e04-44dd-9d4a-794606d56215",
   "metadata": {},
   "source": [
    "Below is a plot of the null distribution with a red vertical line plotted at the observed test statistic value. This helps us visualize an estimate of how probable observing this test statistic is if null hypothesis holds (essentially helps us predicted the $p$-value)  "
   ]
  },
  {
   "cell_type": "code",
   "execution_count": 11,
   "id": "8b10eef7-a614-408a-98c5-cc15ca642a35",
   "metadata": {},
   "outputs": [
    {
     "name": "stderr",
     "output_type": "stream",
     "text": [
      "Warning message in min(diff(unique_loc)):\n",
      "“no non-missing arguments to min; returning Inf”\n"
     ]
    },
    {
     "data": {
      "image/png": "[encoded data removed]",
      "text/plain": [
       "plot without title"
      ]
     },
     "metadata": {
      "image/png": {
       "height": 420,
       "width": 420
      }
     },
     "output_type": "display_data"
    }
   ],
   "source": [
    "# visualize the null distribution with a vertical line indicating the observed test statistic\n",
    "visualize_null_dist_p <- \n",
    "    visualize(null_dist) + \n",
    "    shade_p_value(obs_stat = obs_test_stat, direction = \"right\") +\n",
    "    xlab(\"Mean Difference of Number of Suicides per 100k between two genders\") +\n",
    "    ggtitle(\"Fig.4 Null distribution\")\n",
    "visualize_null_dist_p"
   ]
  },
  {
   "cell_type": "markdown",
   "id": "3826a2fc-a673-4fd0-b31b-fa60896723ae",
   "metadata": {},
   "source": [
    "The observed test statistic is quite far away from the null distribution, therefore, it seems highly unlikely that we observe this value when the difference if means is 0. To solidify this, we calculate the $p$-value explicitly. <br>\n",
    "We use the `get_p_value` function from the `infer` package, and set the `direction` argument to be \"right\" since our alternate hypothesis is $H_1: \\mu_m - \\mu_f > 0$"
   ]
  },
  {
   "cell_type": "code",
   "execution_count": 12,
   "id": "6135d30c-7d13-4184-b173-8dfdb79f3a7d",
   "metadata": {},
   "outputs": [
    {
     "name": "stderr",
     "output_type": "stream",
     "text": [
      "Warning message:\n",
      "“Please be cautious in reporting a p-value of 0. This result is an approximation based on the number of `reps` chosen in the `generate()` step. See `?get_p_value()` for more information.”\n"
     ]
    },
    {
     "name": "stdout",
     "output_type": "stream",
     "text": [
      "p-value is 0"
     ]
    }
   ],
   "source": [
    "# compute the p-value\n",
    "\n",
    "pvalue <- \n",
    "    null_dist %>% \n",
    "    get_p_value(obs_stat = obs_test_stat, direction = \"right\") |>\n",
    "    pull()\n",
    "cat(\"p-value is\", pvalue)"
   ]
  },
  {
   "cell_type": "markdown",
   "id": "27dd76d5-4222-46e2-8d7e-20912282b49e",
   "metadata": {},
   "source": [
    "The $p$-value seems to be 0 but we should never report it to be 0 as it suggests that it is impossible to make Type I error. Instead, since we are using 1000 bootstrap repitions, we report the next smallest $p$-value possible is that $p$-value $<$ 0.001\n",
    "\n",
    "This gives us a strong enough reason to report the conclusion of our hypothesis test. <br>\n",
    "\n",
    "**Given that p-value < 0.001 < 0.05, we reject the null hypothesis at 5% significance level.**"
   ]
  },
  {
   "cell_type": "markdown",
   "id": "491be368-001e-49f5-901b-73c698399ea0",
   "metadata": {},
   "source": [
    "This gives us a strong conclusion which is in line with our predictions from the prilimary results section and previous studies. However, to strengthen this argument, we also form a 95% confidence interval. \n",
    "\n",
    "We use the `get_ci` function to simplify this process and use the sample boostrap distribution which we generated in the section above. "
   ]
  },
  {
   "cell_type": "code",
   "execution_count": 13,
   "id": "6dbc6606-f764-4507-b72d-23e2c938ae81",
   "metadata": {},
   "outputs": [
    {
     "data": {
      "text/html": [
       "<table class=\"dataframe\">\n",
       "<caption>A tibble: 1 × 2</caption>\n",
       "<thead>\n",
       "\t<tr><th scope=col>lower_ci</th><th scope=col>upper_ci</th></tr>\n",
       "\t<tr><th scope=col>&lt;dbl&gt;</th><th scope=col>&lt;dbl&gt;</th></tr>\n",
       "</thead>\n",
       "<tbody>\n",
       "\t<tr><td>13.31611</td><td>16.15745</td></tr>\n",
       "</tbody>\n",
       "</table>\n"
      ],
      "text/latex": [
       "A tibble: 1 × 2\n",
       "\\begin{tabular}{ll}\n",
       " lower\\_ci & upper\\_ci\\\\\n",
       " <dbl> & <dbl>\\\\\n",
       "\\hline\n",
       "\t 13.31611 & 16.15745\\\\\n",
       "\\end{tabular}\n"
      ],
      "text/markdown": [
       "\n",
       "A tibble: 1 × 2\n",
       "\n",
       "| lower_ci &lt;dbl&gt; | upper_ci &lt;dbl&gt; |\n",
       "|---|---|\n",
       "| 13.31611 | 16.15745 |\n",
       "\n"
      ],
      "text/plain": [
       "  lower_ci upper_ci\n",
       "1 13.31611 16.15745"
      ]
     },
     "metadata": {},
     "output_type": "display_data"
    }
   ],
   "source": [
    "# calculting the 90% confidence interval for our bootstrap distribution\n",
    "confidence_interval <- bootstrap_dist %>%\n",
    "    get_ci(level = 0.95, type = \"percentile\")\n",
    "confidence_interval"
   ]
  },
  {
   "cell_type": "markdown",
   "id": "10c2e2a6-ee64-49d6-87b8-be630b1632e5",
   "metadata": {},
   "source": [
    "The lower limit is 13.316 and the upper limit is 16.157. That is to say, after repeated sampling process, we are 95% confident that the true difference of mean suicide rate between two genders in Canada is captured by this interval (13.316, 16.157). That is, of all the confidence intervals that could be calculated, around 95% of them would contain/capture the true difference of mean suicide rates between males and females.  \n",
    "\n",
    "We have also plotted this confidence interval on the distribution below. \n",
    "The lower limit is 13.316 and the upper limit is 16.157. That is to say, after repeated sampling process, we are 95% confident that the true difference in mean suicide rate between the two genders in Canada is captured by this interval (13.316, 16.157). That is, of all the confidence intervals that could be calculated, around 95% of them would contain/capture the true difference in mean suicide rates between males and females."
   ]
  },
  {
   "cell_type": "code",
   "execution_count": 14,
   "id": "b50e91e1-10b9-4bb8-88c8-aa45662ff6d7",
   "metadata": {},
   "outputs": [
    {
     "data": {
      "image/png": "[encoded data removed]",
      "text/plain": [
       "plot without title"
      ]
     },
     "metadata": {
      "image/png": {
       "height": 420,
       "width": 420
      }
     },
     "output_type": "display_data"
    }
   ],
   "source": [
    "# plotting and shading the confidence interval on the bootstrap distribution. \n",
    "confidence_interval_plot <- bootstrap_dist |>\n",
    "    visualise() +\n",
    "    shade_ci(endpoints = confidence_interval, color = \"purple\") + \n",
    "    xlab(\"Difference in Mean Suicide Rates\") +\n",
    "    ggtitle(\"Fig.5 Simulation-based bootstrap distribution\")\n",
    "\n",
    "confidence_interval_plot"
   ]
  },
  {
   "cell_type": "markdown",
   "id": "b6593291-df63-4628-8ad7-d359d55e7a4f",
   "metadata": {},
   "source": [
    "Hence, under a significance level of 5%, we can quite confidently say that the null hypothesis can be rejected since the 95% confidence interval doesn't contain 0. However, to give a proper result report to the stakeholders, we want to be as sure as possible. Therefore, we confirm our simulation-based results using theory-based methods."
   ]
  },
  {
   "cell_type": "markdown",
   "id": "115af843-c689-481c-8dbc-013244123713",
   "metadata": {},
   "source": [
    "**Asymptotic Method**"
   ]
  },
  {
   "cell_type": "markdown",
   "id": "a192d6e4-e760-41b8-a01f-e1869a77764a",
   "metadata": {},
   "source": [
    "We use the two-sample t-test to conduct our asymptotic hypothesis test.\n",
    "In order to conduct this test, there are certain assumptions in play:\n",
    "1. Two populations are nearly normal OR large sample sizes.\n",
    "2. All observations are independent of each other.\n",
    "3. Observations are selected randomly and independently from the population.\n",
    "4. Two populations have the same variation.\n",
    "\n",
    "<br>All of the first three assumptions are satisfied but we cannot assume the fourth one natually. Therefore we conducted a F test using significane level equals to 5% to check whether two populations have same variance. The F test is usually better to test the variance of two groups compared to t-test so we use this. \n",
    "\n",
    "- $H_0: \\sigma^2_m = \\sigma^2_f$ \n",
    "- $H_1: \\sigma^2_m \\neq \\sigma^2_f$"
   ]
  },
  {
   "cell_type": "code",
   "execution_count": 15,
   "id": "7cb9963b-0b33-4d6c-9066-4ee87d06178e",
   "metadata": {},
   "outputs": [
    {
     "data": {
      "text/html": [
       "<table class=\"dataframe\">\n",
       "<caption>A tibble: 2 × 2</caption>\n",
       "<thead>\n",
       "\t<tr><th scope=col>sex</th><th scope=col>sample_var</th></tr>\n",
       "\t<tr><th scope=col>&lt;chr&gt;</th><th scope=col>&lt;dbl&gt;</th></tr>\n",
       "</thead>\n",
       "<tbody>\n",
       "\t<tr><td>female</td><td> 6.173636</td></tr>\n",
       "\t<tr><td>male  </td><td>86.852225</td></tr>\n",
       "</tbody>\n",
       "</table>\n"
      ],
      "text/latex": [
       "A tibble: 2 × 2\n",
       "\\begin{tabular}{ll}\n",
       " sex & sample\\_var\\\\\n",
       " <chr> & <dbl>\\\\\n",
       "\\hline\n",
       "\t female &  6.173636\\\\\n",
       "\t male   & 86.852225\\\\\n",
       "\\end{tabular}\n"
      ],
      "text/markdown": [
       "\n",
       "A tibble: 2 × 2\n",
       "\n",
       "| sex &lt;chr&gt; | sample_var &lt;dbl&gt; |\n",
       "|---|---|\n",
       "| female |  6.173636 |\n",
       "| male   | 86.852225 |\n",
       "\n"
      ],
      "text/plain": [
       "  sex    sample_var\n",
       "1 female  6.173636 \n",
       "2 male   86.852225 "
      ]
     },
     "metadata": {},
     "output_type": "display_data"
    }
   ],
   "source": [
    "# calculated the sample variances for two groups, which are used in the following F test\n",
    "sample_var <- suicide_sample%>%\n",
    "        group_by(sex) %>%\n",
    "        summarize(sample_var = var(suicides.100k.pop))\n",
    "sample_var"
   ]
  },
  {
   "cell_type": "code",
   "execution_count": 16,
   "id": "0739ec51-3c80-46f1-8ae3-82a3d07b6ae8",
   "metadata": {},
   "outputs": [
    {
     "data": {
      "text/html": [
       "<table class=\"dataframe\">\n",
       "<caption>A tibble: 2 × 2</caption>\n",
       "<thead>\n",
       "\t<tr><th scope=col>sex</th><th scope=col>n</th></tr>\n",
       "\t<tr><th scope=col>&lt;chr&gt;</th><th scope=col>&lt;int&gt;</th></tr>\n",
       "</thead>\n",
       "<tbody>\n",
       "\t<tr><td>female</td><td>174</td></tr>\n",
       "\t<tr><td>male  </td><td>174</td></tr>\n",
       "</tbody>\n",
       "</table>\n"
      ],
      "text/latex": [
       "A tibble: 2 × 2\n",
       "\\begin{tabular}{ll}\n",
       " sex & n\\\\\n",
       " <chr> & <int>\\\\\n",
       "\\hline\n",
       "\t female & 174\\\\\n",
       "\t male   & 174\\\\\n",
       "\\end{tabular}\n"
      ],
      "text/markdown": [
       "\n",
       "A tibble: 2 × 2\n",
       "\n",
       "| sex &lt;chr&gt; | n &lt;int&gt; |\n",
       "|---|---|\n",
       "| female | 174 |\n",
       "| male   | 174 |\n",
       "\n"
      ],
      "text/plain": [
       "  sex    n  \n",
       "1 female 174\n",
       "2 male   174"
      ]
     },
     "metadata": {},
     "output_type": "display_data"
    }
   ],
   "source": [
    "# calculated the sample sizes for two sex groups, which are needed in the F test\n",
    "sample_size <- suicide_sample%>%\n",
    "        group_by(sex) %>%\n",
    "        summarize(n = n())\n",
    "sample_size"
   ]
  },
  {
   "cell_type": "code",
   "execution_count": 17,
   "id": "cce1c75c-ee8c-4149-9a94-5affbfc36e0f",
   "metadata": {},
   "outputs": [
    {
     "data": {
      "text/html": [
       "2.75054265233804e-54"
      ],
      "text/latex": [
       "2.75054265233804e-54"
      ],
      "text/markdown": [
       "2.75054265233804e-54"
      ],
      "text/plain": [
       "[1] 2.750543e-54"
      ]
     },
     "metadata": {},
     "output_type": "display_data"
    }
   ],
   "source": [
    "# calculated the F test statistics for F test\n",
    "F = sample_var$sample_var[1]/sample_var$sample_var[2]\n",
    "# computed the p-value\n",
    "f.pvalue = 2 * min( pf(F,174-1,174-1), pf(F,174-1,174-1,lower.tail=FALSE) )\n",
    "f.pvalue"
   ]
  },
  {
   "cell_type": "markdown",
   "id": "056aad06-8245-44bd-a8b3-ab5616b9efff",
   "metadata": {},
   "source": [
    "Since the p-value for this hypothesis test is almost close to 0, we would reject the null hypothesis that two populations have same variance. So the fourth assumption of the two sample t-test is not satisifed. That is why we are using the Welch two sample t-test here to solve the unequal variance problem."
   ]
  },
  {
   "cell_type": "code",
   "execution_count": 18,
   "id": "ea182bd0-32a3-4c1a-aef8-05492125bf49",
   "metadata": {},
   "outputs": [
    {
     "data": {
      "text/html": [
       "<table class=\"dataframe\">\n",
       "<caption>A tibble: 1 × 10</caption>\n",
       "<thead>\n",
       "\t<tr><th scope=col>estimate</th><th scope=col>estimate1</th><th scope=col>estimate2</th><th scope=col>statistic</th><th scope=col>p.value</th><th scope=col>parameter</th><th scope=col>conf.low</th><th scope=col>conf.high</th><th scope=col>method</th><th scope=col>alternative</th></tr>\n",
       "\t<tr><th scope=col>&lt;dbl&gt;</th><th scope=col>&lt;dbl&gt;</th><th scope=col>&lt;dbl&gt;</th><th scope=col>&lt;dbl&gt;</th><th scope=col>&lt;dbl&gt;</th><th scope=col>&lt;dbl&gt;</th><th scope=col>&lt;dbl&gt;</th><th scope=col>&lt;dbl&gt;</th><th scope=col>&lt;chr&gt;</th><th scope=col>&lt;chr&gt;</th></tr>\n",
       "</thead>\n",
       "<tbody>\n",
       "\t<tr><td>14.70885</td><td>19.82201</td><td>5.113161</td><td>20.11646</td><td>5.37673e-50</td><td>197.4708</td><td>13.50049</td><td>Inf</td><td>Welch Two Sample t-test</td><td>greater</td></tr>\n",
       "</tbody>\n",
       "</table>\n"
      ],
      "text/latex": [
       "A tibble: 1 × 10\n",
       "\\begin{tabular}{llllllllll}\n",
       " estimate & estimate1 & estimate2 & statistic & p.value & parameter & conf.low & conf.high & method & alternative\\\\\n",
       " <dbl> & <dbl> & <dbl> & <dbl> & <dbl> & <dbl> & <dbl> & <dbl> & <chr> & <chr>\\\\\n",
       "\\hline\n",
       "\t 14.70885 & 19.82201 & 5.113161 & 20.11646 & 5.37673e-50 & 197.4708 & 13.50049 & Inf & Welch Two Sample t-test & greater\\\\\n",
       "\\end{tabular}\n"
      ],
      "text/markdown": [
       "\n",
       "A tibble: 1 × 10\n",
       "\n",
       "| estimate &lt;dbl&gt; | estimate1 &lt;dbl&gt; | estimate2 &lt;dbl&gt; | statistic &lt;dbl&gt; | p.value &lt;dbl&gt; | parameter &lt;dbl&gt; | conf.low &lt;dbl&gt; | conf.high &lt;dbl&gt; | method &lt;chr&gt; | alternative &lt;chr&gt; |\n",
       "|---|---|---|---|---|---|---|---|---|---|\n",
       "| 14.70885 | 19.82201 | 5.113161 | 20.11646 | 5.37673e-50 | 197.4708 | 13.50049 | Inf | Welch Two Sample t-test | greater |\n",
       "\n"
      ],
      "text/plain": [
       "  estimate estimate1 estimate2 statistic p.value     parameter conf.low\n",
       "1 14.70885 19.82201  5.113161  20.11646  5.37673e-50 197.4708  13.50049\n",
       "  conf.high method                  alternative\n",
       "1 Inf       Welch Two Sample t-test greater    "
      ]
     },
     "metadata": {},
     "output_type": "display_data"
    }
   ],
   "source": [
    "# use built-in method t.test in R to conduct a two sample t test \n",
    "test_summary <- tidy(\n",
    "        t.test(x = suicide_sample %>% \n",
    "                   filter(sex == \"male\") %>%\n",
    "                   pull(suicides.100k.pop),\n",
    "               y = suicide_sample%>% \n",
    "                   filter(sex == \"female\") %>%\n",
    "                   pull(suicides.100k.pop),\n",
    "               alternative = \"greater\"))\n",
    "test_summary"
   ]
  },
  {
   "cell_type": "markdown",
   "id": "2dc9a5d4-1f22-4ea9-9d15-aafca4f327e4",
   "metadata": {},
   "source": [
    "The p-value provided by the t-test is again less than 0.001, which aligns with the bootstrap method. Hence, we can quite confidently conclude that the null hypothesis can be rejected and that males indeed do exhibit a higher mean suicide rate in Canada than females."
   ]
  },
  {
   "cell_type": "markdown",
   "id": "3998ee09-e8e2-4bd4-ac64-262cf5a04264",
   "metadata": {},
   "source": [
    "**Method Comparison**"
   ]
  },
  {
   "cell_type": "markdown",
   "id": "370e51f5-c221-4fa7-98bb-5b159229eb30",
   "metadata": {},
   "source": [
    "Theoretically, the bootstrap method should be better because we don't know the population standard deviations and from the boxplot, we cannot assume the population variances of the two groups are the same. However, since we used the two-sample t-test instead of two sample z-test, we partially solved the problem of unknown population standard deviation. And by using Welch's two-sample t-test instead of the two-sample t-test, we also partially solved the problem of the unequal population variances. Although these are not perfect solutions to these problems, that's the most we can do by using the asymptotic method. So it is hard to say which method is better in this case. That is why we computed the standard errors of our estimates using two methods."
   ]
  },
  {
   "cell_type": "code",
   "execution_count": 19,
   "id": "801850ed-c976-4a8f-b8c7-bffaae14ffbb",
   "metadata": {},
   "outputs": [
    {
     "data": {
      "text/html": [
       "0.750107903942411"
      ],
      "text/latex": [
       "0.750107903942411"
      ],
      "text/markdown": [
       "0.750107903942411"
      ],
      "text/plain": [
       "[1] 0.7501079"
      ]
     },
     "metadata": {},
     "output_type": "display_data"
    }
   ],
   "source": [
    "SE_bootstrap <- bootstrap_dist %>%\n",
    "        summarise(SD = sd(stat))%>%\n",
    "        pull()\n",
    "SE_bootstrap"
   ]
  },
  {
   "cell_type": "code",
   "execution_count": 20,
   "id": "25316856-3a47-42e6-8332-0458234b848d",
   "metadata": {},
   "outputs": [
    {
     "data": {
      "text/html": [
       "0.731184918612254"
      ],
      "text/latex": [
       "0.731184918612254"
      ],
      "text/markdown": [
       "0.731184918612254"
      ],
      "text/plain": [
       "[1] 0.7311849"
      ]
     },
     "metadata": {},
     "output_type": "display_data"
    }
   ],
   "source": [
    "var_male <- suicide_sample %>% \n",
    "         filter(sex == \"male\") %>%\n",
    "         summarise(var = var(suicides.100k.pop))%>%\n",
    "         pull()\n",
    "n_male <- suicide_sample %>% \n",
    "         filter(sex == \"male\") %>%\n",
    "         nrow()\n",
    "var_female <- suicide_sample %>% \n",
    "         filter(sex == \"female\") %>%\n",
    "         summarise(var = var(suicides.100k.pop))%>%\n",
    "         pull()\n",
    "n_female <- suicide_sample %>% \n",
    "         filter(sex == \"female\") %>%\n",
    "         nrow()\n",
    "SE_asymptotics <- sqrt(var_male/n_male + var_female/n_female)\n",
    "SE_asymptotics"
   ]
  },
  {
   "cell_type": "markdown",
   "id": "4d55641e-e8ab-4bf4-8ddf-07f2a8f7bb9f",
   "metadata": {},
   "source": [
    "Based on the standard errors we calculated, the asymptotic method is better compared to the bootstrap method since it has a slightly smaller standard error."
   ]
  },
  {
   "cell_type": "markdown",
   "id": "bf8635f0-1efe-4622-87bd-2503ff5fa6ce",
   "metadata": {},
   "source": [
    "### Discussion"
   ]
  },
  {
   "cell_type": "markdown",
   "id": "bb03ddbe-adcd-475c-9be6-608f9b443d08",
   "metadata": {},
   "source": [
    "We found that the mean suicide rates of males are higher than that of females in Canada between 1985 and 2013. From this report, we can confidently say that there is a difference between male and female suicide rates as our p-value is less than 0.001 using both the bootstrapping and the theory-based methods. In addition, the sample we used has a size of 348, which is more than required to reliably use bootstrapping or theory-based approaches. Considering figure 3, the bootstrap_dist_plot, the distribution of males is not normal, since we have 348 sample size, we are good to apply the asymptotic method in this case.\n",
    "\n",
    "Knowing this information, it may be valuable for experts to obtain a deeper perspective on the factors that caused high suicide rates among males and then break them down into different age groups to examine the specific suicidal ideation and behaviors. Afterward, organizations such as non-government agencies, international institutions, and other policymakers could work on prevention efforts and drive changes. Linkages with databanks related to other environments of public health interest (e.g., health records, schools, corrective services, drug and alcohol services) should then be encouraged for public health and research purposes (De Leo, 2015). If we have a shared database and sufficient analysis of the suicide rates in different countries, the loss of life will likely be minimized.\n",
    "\n",
    "The results that we obtained did align with our expectations. When initially looking at our boxplots and histograms from our preliminary analysis, we noticed that there was very little overlap between the suicide rates of males and the suicide rate of females, strongly suggesting that there exists a real difference between the suicide rates of the two groups. Our 95% confidence interval of (13.3, 16.2) for the difference in mean suicide rates between males and females along with our p-value of less than 0.001 confirmed our prediction that there was a real difference.\n",
    "\n",
    "Noticing that there is a difference between the suicide rates of the two groups in Canada, made us think if this was the case in other countries as well. We're curious as to which other countries would produce similar results, and if there's any relationship between those countries. We also wonder if there are any countries in the world where female suicide rates are higher than male suicide rates. Furthermore, we think it would be interesting to study the causes of differences in suicide rates between males and females. We could look at countries with similar rates differences, and try to extract commonalities to determine what creates these differences in rates. Perhaps we could take these predictor variables and create a classification model that predicts what the difference in suicide rates for a country would be.\n"
   ]
  },
  {
   "cell_type": "markdown",
   "id": "74f2b8c1-23e0-442c-a2fb-33e41eb174c8",
   "metadata": {},
   "source": [
    "### References"
   ]
  },
  {
   "cell_type": "markdown",
   "id": "9166b290-3146-4aee-a65a-cafb365ff60a",
   "metadata": {},
   "source": [
    "1. Rusty. “Suicide Rates Overview 1985 to 2016e.” Kaggle, 1 Dec. 2018, https://www.kaggle.com/datasets/russellyates88/suicide-rates-overview-1985-to-2016.   \n",
    "\n",
    "2. Freeman, Aislinné et al. “A Cross-National Study on Gender Differences in Suicide Intent - BMC Psychiatry.” BioMed Central, BioMed Central, 29 June 2017, https://bmcpsychiatry.biomedcentral.com/articles/10.1186/s12888-017-1398-8.  \n",
    "\n",
    "3. Elflein, John. “Distribution of Deaths Canada by Cause 2020.” Statista, 4 Mar. 2022, https://www.statista.com/statistics/437880/proportion-of-deaths-in-canada-by-disease/#:~:text=However%2C%20the%20leading%20causes%20of,43.9%20percent%20of%20all%20deaths.   \n",
    "\n",
    "4. Leo, D. D. (2015, February). Can we rely on suicide mortality data? - researchgate.net. ResearchGate. Retrieved November 22, 2022, from https://www.researchgate.net/profile/Diego-De-Leo/publication/272081185_Can_We_Rely_on_Suicide_Mortality_Data/links/5609201208ae13969149c8d6/Can-We-Rely-on-Suicide-Mortality-Data.pdf "
   ]
  },
  {
   "cell_type": "code",
   "execution_count": null,
   "id": "025b75ae-87c3-4bed-ab05-ec9c3af51a02",
   "metadata": {},
   "outputs": [],
   "source": []
  }
 ],
 "metadata": {
  "kernelspec": {
   "display_name": "R",
   "language": "R",
   "name": "ir"
  },
  "language_info": {
   "codemirror_mode": "r",
   "file_extension": ".r",
   "mimetype": "text/x-r-source",
   "name": "R",
   "pygments_lexer": "r",
   "version": "4.1.3"
  }
 },
 "nbformat": 4,
 "nbformat_minor": 5
}
