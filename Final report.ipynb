{
 "cells": [
  {
   "cell_type": "markdown",
   "id": "b39a6a7e-322a-4232-8186-cdca0a21d2e2",
   "metadata": {},
   "source": [
    "# Gender and Mean Suicide Rates in Canada\n",
    "### Group 11 Final Report\n",
    "##### Group Members: \n",
    "Aaron Cui (94952777)\n",
    "<br>Aditya Goel (84874379)\n",
    "<br>Jialu Jin (24403594)\n",
    "<br>Yirui Wang (27719509)"
   ]
  },
  {
   "cell_type": "markdown",
   "id": "998102bd-09da-4a33-bb6e-47ad3379eb2b",
   "metadata": {},
   "source": [
    "### Introduction\n"
   ]
  },
  {
   "cell_type": "markdown",
   "id": "90a5ef53-5921-4978-a7d0-bfcebefbb10c",
   "metadata": {},
   "source": [
    "Suicide is a prevalent cause of death in Canada, accounting for 1.2% of all deaths in the year 2020 (Elflein, 2020). Past research has led us to believe that there may be differences in suicide rates between men and women, therefore we are interested in further studying this phenomenon (Freeman et al., 2017). As a result, our research question for this project is: **what were the mean suicide rates of males and females in Canada between 1985 and 2013?** We will be using the \"Suicide Rates Overview 1985 to 2016\" (Rusty, 2018) dataset sourced from Kaggle for our analysis, focusing only on the data relevant to Canada. This dataset has 12 columns and 27820 rows. Different columns are different response variables accross the socio-economic spectrum that might affect the suicide rates globally. Finally, the number of suicides per 100,000 people (essentially the suicide rate) will be our response variable, mean the location parameter, and standard deviation the scale parameter. We decided to use mean as it gives a good sense of the center of the data while standard deviation helps us understand the spread; ultimately helping us evaluate the error in our results. "
   ]
  },
  {
   "cell_type": "markdown",
   "id": "715bef19-c0f4-407e-b780-912af6d8d461",
   "metadata": {},
   "source": [
    "### Methods & Results\n",
    "#### Preliminary Results"
   ]
  },
  {
   "cell_type": "code",
   "execution_count": 1,
   "id": "a8f686fe-f389-404a-b6e9-45714a83daef",
   "metadata": {},
   "outputs": [
    {
     "name": "stderr",
     "output_type": "stream",
     "text": [
      "Warning message in system(\"timedatectl\", intern = TRUE):\n",
      "“running command 'timedatectl' had status 1”\n",
      "── \u001b[1mAttaching packages\u001b[22m ─────────────────────────────────────── tidyverse 1.3.2 ──\n",
      "\u001b[32m✔\u001b[39m \u001b[34mggplot2\u001b[39m 3.4.0     \u001b[32m✔\u001b[39m \u001b[34mpurrr  \u001b[39m 0.3.4\n",
      "\u001b[32m✔\u001b[39m \u001b[34mtibble \u001b[39m 3.1.8     \u001b[32m✔\u001b[39m \u001b[34mdplyr  \u001b[39m 1.0.9\n",
      "\u001b[32m✔\u001b[39m \u001b[34mtidyr  \u001b[39m 1.2.0     \u001b[32m✔\u001b[39m \u001b[34mstringr\u001b[39m 1.4.1\n",
      "\u001b[32m✔\u001b[39m \u001b[34mreadr  \u001b[39m 2.1.2     \u001b[32m✔\u001b[39m \u001b[34mforcats\u001b[39m 0.5.2\n",
      "── \u001b[1mConflicts\u001b[22m ────────────────────────────────────────── tidyverse_conflicts() ──\n",
      "\u001b[31m✖\u001b[39m \u001b[34mdplyr\u001b[39m::\u001b[32mfilter()\u001b[39m masks \u001b[34mstats\u001b[39m::filter()\n",
      "\u001b[31m✖\u001b[39m \u001b[34mdplyr\u001b[39m::\u001b[32mlag()\u001b[39m    masks \u001b[34mstats\u001b[39m::lag()\n",
      "── \u001b[1mAttaching packages\u001b[22m ────────────────────────────────────── tidymodels 1.0.0 ──\n",
      "\n",
      "\u001b[32m✔\u001b[39m \u001b[34mbroom       \u001b[39m 1.0.1     \u001b[32m✔\u001b[39m \u001b[34mrsample     \u001b[39m 1.1.0\n",
      "\u001b[32m✔\u001b[39m \u001b[34mdials       \u001b[39m 1.0.0     \u001b[32m✔\u001b[39m \u001b[34mtune        \u001b[39m 1.0.1\n",
      "\u001b[32m✔\u001b[39m \u001b[34mmodeldata   \u001b[39m 1.0.1     \u001b[32m✔\u001b[39m \u001b[34mworkflows   \u001b[39m 1.1.0\n",
      "\u001b[32m✔\u001b[39m \u001b[34mparsnip     \u001b[39m 1.0.2     \u001b[32m✔\u001b[39m \u001b[34mworkflowsets\u001b[39m 1.0.0\n",
      "\u001b[32m✔\u001b[39m \u001b[34mrecipes     \u001b[39m 1.0.1     \u001b[32m✔\u001b[39m \u001b[34myardstick   \u001b[39m 1.1.0\n",
      "\n",
      "── \u001b[1mConflicts\u001b[22m ───────────────────────────────────────── tidymodels_conflicts() ──\n",
      "\u001b[31m✖\u001b[39m \u001b[34mscales\u001b[39m::\u001b[32mdiscard()\u001b[39m masks \u001b[34mpurrr\u001b[39m::discard()\n",
      "\u001b[31m✖\u001b[39m \u001b[34mdplyr\u001b[39m::\u001b[32mfilter()\u001b[39m   masks \u001b[34mstats\u001b[39m::filter()\n",
      "\u001b[31m✖\u001b[39m \u001b[34mrecipes\u001b[39m::\u001b[32mfixed()\u001b[39m  masks \u001b[34mstringr\u001b[39m::fixed()\n",
      "\u001b[31m✖\u001b[39m \u001b[34mdplyr\u001b[39m::\u001b[32mlag()\u001b[39m      masks \u001b[34mstats\u001b[39m::lag()\n",
      "\u001b[31m✖\u001b[39m \u001b[34myardstick\u001b[39m::\u001b[32mspec()\u001b[39m masks \u001b[34mreadr\u001b[39m::spec()\n",
      "\u001b[31m✖\u001b[39m \u001b[34mrecipes\u001b[39m::\u001b[32mstep()\u001b[39m   masks \u001b[34mstats\u001b[39m::step()\n",
      "\u001b[34m•\u001b[39m Learn how to get started at \u001b[32mhttps://www.tidymodels.org/start/\u001b[39m\n",
      "\n",
      "Registered S3 method overwritten by 'GGally':\n",
      "  method from   \n",
      "  +.gg   ggplot2\n",
      "\n",
      "\n",
      "Attaching package: ‘RCurl’\n",
      "\n",
      "\n",
      "The following object is masked from ‘package:tidyr’:\n",
      "\n",
      "    complete\n",
      "\n",
      "\n",
      "\n",
      "Attaching package: ‘ggmosaic’\n",
      "\n",
      "\n",
      "The following object is masked from ‘package:GGally’:\n",
      "\n",
      "    happy\n",
      "\n",
      "\n"
     ]
    }
   ],
   "source": [
    "# loading all the necessary libraries\n",
    "library(infer)\n",
    "library(repr)\n",
    "library(tidyverse)\n",
    "library(readxl)\n",
    "library(digest)\n",
    "library(dplyr)\n",
    "library(tidymodels)\n",
    "library(GGally)\n",
    "library(RCurl)\n",
    "library(ggplot2)\n",
    "library(ggmosaic)\n",
    "\n",
    "# setting the maximum rows to be displayed to 6\n",
    "options(repr.matrix.max.rows = 6)"
   ]
  },
  {
   "cell_type": "markdown",
   "id": "8c804bce-2b4f-4069-b994-c99b86cb2204",
   "metadata": {},
   "source": [
    "We downloaded the dataset from the web and put it in our repository in the data folder."
   ]
  },
  {
   "cell_type": "code",
   "execution_count": 2,
   "id": "5112b08e-758b-43ce-b575-5e04fce18236",
   "metadata": {},
   "outputs": [
    {
     "data": {
      "text/html": [
       "<table class=\"dataframe\">\n",
       "<caption>A data.frame: 6 × 12</caption>\n",
       "<thead>\n",
       "\t<tr><th></th><th scope=col>country</th><th scope=col>year</th><th scope=col>sex</th><th scope=col>age</th><th scope=col>suicides_no</th><th scope=col>population</th><th scope=col>suicides.100k.pop</th><th scope=col>country.year</th><th scope=col>HDI.for.year</th><th scope=col>gdp_for_year....</th><th scope=col>gdp_per_capita....</th><th scope=col>generation</th></tr>\n",
       "\t<tr><th></th><th scope=col>&lt;chr&gt;</th><th scope=col>&lt;int&gt;</th><th scope=col>&lt;chr&gt;</th><th scope=col>&lt;chr&gt;</th><th scope=col>&lt;int&gt;</th><th scope=col>&lt;int&gt;</th><th scope=col>&lt;dbl&gt;</th><th scope=col>&lt;chr&gt;</th><th scope=col>&lt;dbl&gt;</th><th scope=col>&lt;chr&gt;</th><th scope=col>&lt;int&gt;</th><th scope=col>&lt;chr&gt;</th></tr>\n",
       "</thead>\n",
       "<tbody>\n",
       "\t<tr><th scope=row>1</th><td>Albania</td><td>1987</td><td>male  </td><td>15-24 years</td><td>21</td><td>312900</td><td>6.71</td><td>Albania1987</td><td>NA</td><td>2,156,624,900</td><td>796</td><td>Generation X   </td></tr>\n",
       "\t<tr><th scope=row>2</th><td>Albania</td><td>1987</td><td>male  </td><td>35-54 years</td><td>16</td><td>308000</td><td>5.19</td><td>Albania1987</td><td>NA</td><td>2,156,624,900</td><td>796</td><td>Silent         </td></tr>\n",
       "\t<tr><th scope=row>3</th><td>Albania</td><td>1987</td><td>female</td><td>15-24 years</td><td>14</td><td>289700</td><td>4.83</td><td>Albania1987</td><td>NA</td><td>2,156,624,900</td><td>796</td><td>Generation X   </td></tr>\n",
       "\t<tr><th scope=row>4</th><td>Albania</td><td>1987</td><td>male  </td><td>75+ years  </td><td> 1</td><td> 21800</td><td>4.59</td><td>Albania1987</td><td>NA</td><td>2,156,624,900</td><td>796</td><td>G.I. Generation</td></tr>\n",
       "\t<tr><th scope=row>5</th><td>Albania</td><td>1987</td><td>male  </td><td>25-34 years</td><td> 9</td><td>274300</td><td>3.28</td><td>Albania1987</td><td>NA</td><td>2,156,624,900</td><td>796</td><td>Boomers        </td></tr>\n",
       "\t<tr><th scope=row>6</th><td>Albania</td><td>1987</td><td>female</td><td>75+ years  </td><td> 1</td><td> 35600</td><td>2.81</td><td>Albania1987</td><td>NA</td><td>2,156,624,900</td><td>796</td><td>G.I. Generation</td></tr>\n",
       "</tbody>\n",
       "</table>\n"
      ],
      "text/latex": [
       "A data.frame: 6 × 12\n",
       "\\begin{tabular}{r|llllllllllll}\n",
       "  & country & year & sex & age & suicides\\_no & population & suicides.100k.pop & country.year & HDI.for.year & gdp\\_for\\_year.... & gdp\\_per\\_capita.... & generation\\\\\n",
       "  & <chr> & <int> & <chr> & <chr> & <int> & <int> & <dbl> & <chr> & <dbl> & <chr> & <int> & <chr>\\\\\n",
       "\\hline\n",
       "\t1 & Albania & 1987 & male   & 15-24 years & 21 & 312900 & 6.71 & Albania1987 & NA & 2,156,624,900 & 796 & Generation X   \\\\\n",
       "\t2 & Albania & 1987 & male   & 35-54 years & 16 & 308000 & 5.19 & Albania1987 & NA & 2,156,624,900 & 796 & Silent         \\\\\n",
       "\t3 & Albania & 1987 & female & 15-24 years & 14 & 289700 & 4.83 & Albania1987 & NA & 2,156,624,900 & 796 & Generation X   \\\\\n",
       "\t4 & Albania & 1987 & male   & 75+ years   &  1 &  21800 & 4.59 & Albania1987 & NA & 2,156,624,900 & 796 & G.I. Generation\\\\\n",
       "\t5 & Albania & 1987 & male   & 25-34 years &  9 & 274300 & 3.28 & Albania1987 & NA & 2,156,624,900 & 796 & Boomers        \\\\\n",
       "\t6 & Albania & 1987 & female & 75+ years   &  1 &  35600 & 2.81 & Albania1987 & NA & 2,156,624,900 & 796 & G.I. Generation\\\\\n",
       "\\end{tabular}\n"
      ],
      "text/markdown": [
       "\n",
       "A data.frame: 6 × 12\n",
       "\n",
       "| <!--/--> | country &lt;chr&gt; | year &lt;int&gt; | sex &lt;chr&gt; | age &lt;chr&gt; | suicides_no &lt;int&gt; | population &lt;int&gt; | suicides.100k.pop &lt;dbl&gt; | country.year &lt;chr&gt; | HDI.for.year &lt;dbl&gt; | gdp_for_year.... &lt;chr&gt; | gdp_per_capita.... &lt;int&gt; | generation &lt;chr&gt; |\n",
       "|---|---|---|---|---|---|---|---|---|---|---|---|---|\n",
       "| 1 | Albania | 1987 | male   | 15-24 years | 21 | 312900 | 6.71 | Albania1987 | NA | 2,156,624,900 | 796 | Generation X    |\n",
       "| 2 | Albania | 1987 | male   | 35-54 years | 16 | 308000 | 5.19 | Albania1987 | NA | 2,156,624,900 | 796 | Silent          |\n",
       "| 3 | Albania | 1987 | female | 15-24 years | 14 | 289700 | 4.83 | Albania1987 | NA | 2,156,624,900 | 796 | Generation X    |\n",
       "| 4 | Albania | 1987 | male   | 75+ years   |  1 |  21800 | 4.59 | Albania1987 | NA | 2,156,624,900 | 796 | G.I. Generation |\n",
       "| 5 | Albania | 1987 | male   | 25-34 years |  9 | 274300 | 3.28 | Albania1987 | NA | 2,156,624,900 | 796 | Boomers         |\n",
       "| 6 | Albania | 1987 | female | 75+ years   |  1 |  35600 | 2.81 | Albania1987 | NA | 2,156,624,900 | 796 | G.I. Generation |\n",
       "\n"
      ],
      "text/plain": [
       "  country year sex    age         suicides_no population suicides.100k.pop\n",
       "1 Albania 1987 male   15-24 years 21          312900     6.71             \n",
       "2 Albania 1987 male   35-54 years 16          308000     5.19             \n",
       "3 Albania 1987 female 15-24 years 14          289700     4.83             \n",
       "4 Albania 1987 male   75+ years    1           21800     4.59             \n",
       "5 Albania 1987 male   25-34 years  9          274300     3.28             \n",
       "6 Albania 1987 female 75+ years    1           35600     2.81             \n",
       "  country.year HDI.for.year gdp_for_year.... gdp_per_capita.... generation     \n",
       "1 Albania1987  NA           2,156,624,900    796                Generation X   \n",
       "2 Albania1987  NA           2,156,624,900    796                Silent         \n",
       "3 Albania1987  NA           2,156,624,900    796                Generation X   \n",
       "4 Albania1987  NA           2,156,624,900    796                G.I. Generation\n",
       "5 Albania1987  NA           2,156,624,900    796                Boomers        \n",
       "6 Albania1987  NA           2,156,624,900    796                G.I. Generation"
      ]
     },
     "metadata": {},
     "output_type": "display_data"
    }
   ],
   "source": [
    "# setting seed to ensure reproducibility\n",
    "set.seed(11)\n",
    "\n",
    "# loading the data from the data folder and displaying the head (first 6 rows)\n",
    "# the data was downloaded from the following link: \"https://www.kaggle.com/datasets/russellyates88/suicide-rates-overview-1985-to-2016\"\n",
    "suicide_data <- read.csv(\"https://raw.githubusercontent.com/agoel25/stat_201_group_11/main/data/master.csv\")\n",
    "head(suicide_data)"
   ]
  },
  {
   "cell_type": "markdown",
   "id": "60f21cb9-9c46-478e-b8b5-773fd410cd33",
   "metadata": {},
   "source": [
    "We cleaned and wrangled the data by filtering only Canada and selecting \"sex\", \"year\", \"age\" and \"suicides.100k.pop\" columns. "
   ]
  },
  {
   "cell_type": "code",
   "execution_count": 3,
   "id": "1e36b80a-a504-4abe-b6b3-d6eb160abe69",
   "metadata": {},
   "outputs": [
    {
     "data": {
      "text/html": [
       "<table class=\"dataframe\">\n",
       "<caption>A data.frame: 348 × 4</caption>\n",
       "<thead>\n",
       "\t<tr><th scope=col>sex</th><th scope=col>year</th><th scope=col>age</th><th scope=col>suicides.100k.pop</th></tr>\n",
       "\t<tr><th scope=col>&lt;chr&gt;</th><th scope=col>&lt;int&gt;</th><th scope=col>&lt;chr&gt;</th><th scope=col>&lt;dbl&gt;</th></tr>\n",
       "</thead>\n",
       "<tbody>\n",
       "\t<tr><td>male</td><td>1985</td><td>75+ years  </td><td>28.45</td></tr>\n",
       "\t<tr><td>male</td><td>1985</td><td>55-74 years</td><td>27.27</td></tr>\n",
       "\t<tr><td>male</td><td>1985</td><td>25-34 years</td><td>27.00</td></tr>\n",
       "\t<tr><td>⋮</td><td>⋮</td><td>⋮</td><td>⋮</td></tr>\n",
       "\t<tr><td>female</td><td>2013</td><td>75+ years </td><td>4.61</td></tr>\n",
       "\t<tr><td>female</td><td>2013</td><td>5-14 years</td><td>1.10</td></tr>\n",
       "\t<tr><td>male  </td><td>2013</td><td>5-14 years</td><td>0.78</td></tr>\n",
       "</tbody>\n",
       "</table>\n"
      ],
      "text/latex": [
       "A data.frame: 348 × 4\n",
       "\\begin{tabular}{llll}\n",
       " sex & year & age & suicides.100k.pop\\\\\n",
       " <chr> & <int> & <chr> & <dbl>\\\\\n",
       "\\hline\n",
       "\t male & 1985 & 75+ years   & 28.45\\\\\n",
       "\t male & 1985 & 55-74 years & 27.27\\\\\n",
       "\t male & 1985 & 25-34 years & 27.00\\\\\n",
       "\t ⋮ & ⋮ & ⋮ & ⋮\\\\\n",
       "\t female & 2013 & 75+ years  & 4.61\\\\\n",
       "\t female & 2013 & 5-14 years & 1.10\\\\\n",
       "\t male   & 2013 & 5-14 years & 0.78\\\\\n",
       "\\end{tabular}\n"
      ],
      "text/markdown": [
       "\n",
       "A data.frame: 348 × 4\n",
       "\n",
       "| sex &lt;chr&gt; | year &lt;int&gt; | age &lt;chr&gt; | suicides.100k.pop &lt;dbl&gt; |\n",
       "|---|---|---|---|\n",
       "| male | 1985 | 75+ years   | 28.45 |\n",
       "| male | 1985 | 55-74 years | 27.27 |\n",
       "| male | 1985 | 25-34 years | 27.00 |\n",
       "| ⋮ | ⋮ | ⋮ | ⋮ |\n",
       "| female | 2013 | 75+ years  | 4.61 |\n",
       "| female | 2013 | 5-14 years | 1.10 |\n",
       "| male   | 2013 | 5-14 years | 0.78 |\n",
       "\n"
      ],
      "text/plain": [
       "    sex    year age         suicides.100k.pop\n",
       "1   male   1985 75+ years   28.45            \n",
       "2   male   1985 55-74 years 27.27            \n",
       "3   male   1985 25-34 years 27.00            \n",
       "⋮   ⋮      ⋮    ⋮           ⋮                \n",
       "346 female 2013 75+ years   4.61             \n",
       "347 female 2013 5-14 years  1.10             \n",
       "348 male   2013 5-14 years  0.78             "
      ]
     },
     "metadata": {},
     "output_type": "display_data"
    }
   ],
   "source": [
    "# filtering for Canada (as our question specifically focuses on Canada) and selecting the appropriate columns\n",
    "suicide_sample <- suicide_data %>%\n",
    "                  filter(country %in% c(\"Canada\")) %>%\n",
    "                  select(sex, year, age, suicides.100k.pop)\n",
    "suicide_sample"
   ]
  },
  {
   "cell_type": "markdown",
   "id": "4cc067ab-41c9-495c-b60a-dee2e7aaa7f4",
   "metadata": {},
   "source": [
    "- We plot a boxplot of number of suicides per 100k population for different sex.\n",
    "- We also plot a histogram of Sample distribution of number of suicides per 100k population in Canada for 2 sex groups.\n",
    "- From the boxplot, we can see that the boxplots of two genders don't even overlap. Also, from the histogram, the sample distribution varies a lot for different genders. So we think this might indicate that there is a difference of the mean number of suicides per 100k population for two genders."
   ]
  },
  {
   "cell_type": "code",
   "execution_count": 4,
   "id": "9522a368-d191-4277-b633-72b600920acb",
   "metadata": {},
   "outputs": [
    {
     "data": {
      "image/png": "[encoded data removed]",
      "text/plain": [
       "plot without title"
      ]
     },
     "metadata": {
      "image/png": {
       "height": 420,
       "width": 420
      }
     },
     "output_type": "display_data"
    }
   ],
   "source": [
    "# plotting the boxplot of suicides per 100k population for males and females\n",
    "boxplot <- suicide_sample %>%\n",
    "    ggplot(aes(sex, suicides.100k.pop)) + \n",
    "    geom_boxplot() +\n",
    "    ggtitle(\"Boxplot of number of suicides per 100k population in Canada for 2 sexes\") +\n",
    "    xlab(\"Sex\") +\n",
    "    ylab(\"Number of Suicides per 100,000 people\")\n",
    "boxplot"
   ]
  },
  {
   "cell_type": "code",
   "execution_count": 5,
   "id": "452ac23e-e46e-4b6a-a57f-f9a187ec5b00",
   "metadata": {},
   "outputs": [
    {
     "data": {
      "image/png": "[encoded data removed]",
      "text/plain": [
       "plot without title"
      ]
     },
     "metadata": {
      "image/png": {
       "height": 420,
       "width": 420
      }
     },
     "output_type": "display_data"
    }
   ],
   "source": [
    "# plotting the sample distribution of suicides per 100k population for males and females\n",
    "histogram <- suicide_sample %>%\n",
    "    ggplot(aes(x = suicides.100k.pop, fill = sex)) +\n",
    "    geom_histogram(bins=30, color=\"#374652\", alpha=0.6, position = 'identity') +\n",
    "    scale_fill_manual(values=c(\"#985473\", \"#036425\")) +\n",
    "    ggtitle(\"Sample distribution of number of suicides per 100k population in Canada for 2 sexes\")+\n",
    "    xlab(\"Number of Suicides per 100,000 people\") +\n",
    "    ylab(\"Count\") +\n",
    "    labs(fill=\"\") +\n",
    "    theme(text = element_text(size = 10))\n",
    "histogram"
   ]
  },
  {
   "cell_type": "markdown",
   "id": "22e607d6-837b-4af3-973c-c832c239c0d0",
   "metadata": {},
   "source": [
    "The following is the summary statistics (sample means of suicide rates for females and males). We can clearly see that the mean suicide rates of males is higher than females. "
   ]
  },
  {
   "cell_type": "code",
   "execution_count": 6,
   "id": "6467516c-0201-4ed3-a7e2-2d7bf5edf0ea",
   "metadata": {},
   "outputs": [
    {
     "data": {
      "text/html": [
       "<table class=\"dataframe\">\n",
       "<caption>A tibble: 2 × 2</caption>\n",
       "<thead>\n",
       "\t<tr><th scope=col>sex</th><th scope=col>mean</th></tr>\n",
       "\t<tr><th scope=col>&lt;chr&gt;</th><th scope=col>&lt;dbl&gt;</th></tr>\n",
       "</thead>\n",
       "<tbody>\n",
       "\t<tr><td>female</td><td> 5.113161</td></tr>\n",
       "\t<tr><td>male  </td><td>19.822011</td></tr>\n",
       "</tbody>\n",
       "</table>\n"
      ],
      "text/latex": [
       "A tibble: 2 × 2\n",
       "\\begin{tabular}{ll}\n",
       " sex & mean\\\\\n",
       " <chr> & <dbl>\\\\\n",
       "\\hline\n",
       "\t female &  5.113161\\\\\n",
       "\t male   & 19.822011\\\\\n",
       "\\end{tabular}\n"
      ],
      "text/markdown": [
       "\n",
       "A tibble: 2 × 2\n",
       "\n",
       "| sex &lt;chr&gt; | mean &lt;dbl&gt; |\n",
       "|---|---|\n",
       "| female |  5.113161 |\n",
       "| male   | 19.822011 |\n",
       "\n"
      ],
      "text/plain": [
       "  sex    mean     \n",
       "1 female  5.113161\n",
       "2 male   19.822011"
      ]
     },
     "metadata": {},
     "output_type": "display_data"
    }
   ],
   "source": [
    "# calculating the point estimates from our sample for the 2 population groups, that is \n",
    "# calculating the mean suicide rates for males and females in Canada\n",
    "summary <- suicide_sample%>%\n",
    "        group_by(sex) %>%\n",
    "        summarize(mean = mean(suicides.100k.pop))\n",
    "summary"
   ]
  },
  {
   "cell_type": "markdown",
   "id": "c833fa3d-95af-46a5-92ba-6a929c035927",
   "metadata": {},
   "source": [
    "#### Hypothesis test\n",
    "- using bootstrapping method"
   ]
  },
  {
   "cell_type": "code",
   "execution_count": 21,
   "id": "cb584a41-9cbc-499c-a872-03b3235970a4",
   "metadata": {},
   "outputs": [
    {
     "data": {
      "text/html": [
       "<table class=\"dataframe\">\n",
       "<caption>A infer: 1000 × 2</caption>\n",
       "<thead>\n",
       "\t<tr><th scope=col>replicate</th><th scope=col>stat</th></tr>\n",
       "\t<tr><th scope=col>&lt;int&gt;</th><th scope=col>&lt;dbl&gt;</th></tr>\n",
       "</thead>\n",
       "<tbody>\n",
       "\t<tr><td>1</td><td>14.63171</td></tr>\n",
       "\t<tr><td>2</td><td>14.49076</td></tr>\n",
       "\t<tr><td>3</td><td>14.54797</td></tr>\n",
       "\t<tr><td>⋮</td><td>⋮</td></tr>\n",
       "\t<tr><td> 998</td><td>14.76470</td></tr>\n",
       "\t<tr><td> 999</td><td>14.46985</td></tr>\n",
       "\t<tr><td>1000</td><td>14.78481</td></tr>\n",
       "</tbody>\n",
       "</table>\n"
      ],
      "text/latex": [
       "A infer: 1000 × 2\n",
       "\\begin{tabular}{ll}\n",
       " replicate & stat\\\\\n",
       " <int> & <dbl>\\\\\n",
       "\\hline\n",
       "\t 1 & 14.63171\\\\\n",
       "\t 2 & 14.49076\\\\\n",
       "\t 3 & 14.54797\\\\\n",
       "\t ⋮ & ⋮\\\\\n",
       "\t  998 & 14.76470\\\\\n",
       "\t  999 & 14.46985\\\\\n",
       "\t 1000 & 14.78481\\\\\n",
       "\\end{tabular}\n"
      ],
      "text/markdown": [
       "\n",
       "A infer: 1000 × 2\n",
       "\n",
       "| replicate &lt;int&gt; | stat &lt;dbl&gt; |\n",
       "|---|---|\n",
       "| 1 | 14.63171 |\n",
       "| 2 | 14.49076 |\n",
       "| 3 | 14.54797 |\n",
       "| ⋮ | ⋮ |\n",
       "|  998 | 14.76470 |\n",
       "|  999 | 14.46985 |\n",
       "| 1000 | 14.78481 |\n",
       "\n"
      ],
      "text/plain": [
       "     replicate stat    \n",
       "1    1         14.63171\n",
       "2    2         14.49076\n",
       "3    3         14.54797\n",
       "⋮    ⋮         ⋮       \n",
       "998   998      14.76470\n",
       "999   999      14.46985\n",
       "1000 1000      14.78481"
      ]
     },
     "metadata": {},
     "output_type": "display_data"
    }
   ],
   "source": [
    "null_dist <- \n",
    "    suicide_sample %>%\n",
    "    specify(formula = suicides.100k.pop ~ sex) %>% \n",
    "    hypothesize(null = \"independence\")%>%\n",
    "    generate(reps = 1000, type = \"bootstrap\") %>%\n",
    "    calculate(stat = \"diff in means\", order = c(\"male\",\"female\"))\n",
    "null_dist"
   ]
  },
  {
   "cell_type": "code",
   "execution_count": 22,
   "id": "10578698-c64b-4743-bfee-8b23cb4b90fb",
   "metadata": {},
   "outputs": [
    {
     "data": {
      "text/html": [
       "14.7088505747126"
      ],
      "text/latex": [
       "14.7088505747126"
      ],
      "text/markdown": [
       "14.7088505747126"
      ],
      "text/plain": [
       "[1] 14.70885"
      ]
     },
     "metadata": {},
     "output_type": "display_data"
    }
   ],
   "source": [
    "obs_test_stat <- suicide_sample %>% \n",
    "        specify(formula = suicides.100k.pop ~ sex) %>% \n",
    "        calculate(stat = \"diff in means\", order = c(\"male\", \"female\")) %>%\n",
    "        pull()\n",
    "obs_test_stat"
   ]
  },
  {
   "cell_type": "code",
   "execution_count": 27,
   "id": "8b10eef7-a614-408a-98c5-cc15ca642a35",
   "metadata": {},
   "outputs": [
    {
     "name": "stderr",
     "output_type": "stream",
     "text": [
      "Warning message in regularize.values(x, y, ties, missing(ties), na.rm = na.rm):\n",
      "“collapsing to unique 'x' values”\n"
     ]
    },
    {
     "data": {
      "image/png": "[encoded data removed]",
      "text/plain": [
       "plot without title"
      ]
     },
     "metadata": {
      "image/png": {
       "height": 420,
       "width": 420
      }
     },
     "output_type": "display_data"
    }
   ],
   "source": [
    "visualize_null_dist_p <- \n",
    "    visualize(null_dist) + \n",
    "    shade_p_value(obs_stat = obs_test_stat, direction = \"right\") +\n",
    "    xlab(\"Mean Difference of Number of Suicides per 100k between two genders\") +\n",
    "    ggtitle(\"Null distribution\")\n",
    "visualize_null_dist_p"
   ]
  },
  {
   "cell_type": "code",
   "execution_count": 29,
   "id": "6135d30c-7d13-4184-b173-8dfdb79f3a7d",
   "metadata": {},
   "outputs": [
    {
     "data": {
      "text/html": [
       "<table class=\"dataframe\">\n",
       "<caption>A tibble: 1 × 1</caption>\n",
       "<thead>\n",
       "\t<tr><th scope=col>p_value</th></tr>\n",
       "\t<tr><th scope=col>&lt;dbl&gt;</th></tr>\n",
       "</thead>\n",
       "<tbody>\n",
       "\t<tr><td>0.526</td></tr>\n",
       "</tbody>\n",
       "</table>\n"
      ],
      "text/latex": [
       "A tibble: 1 × 1\n",
       "\\begin{tabular}{l}\n",
       " p\\_value\\\\\n",
       " <dbl>\\\\\n",
       "\\hline\n",
       "\t 0.526\\\\\n",
       "\\end{tabular}\n"
      ],
      "text/markdown": [
       "\n",
       "A tibble: 1 × 1\n",
       "\n",
       "| p_value &lt;dbl&gt; |\n",
       "|---|\n",
       "| 0.526 |\n",
       "\n"
      ],
      "text/plain": [
       "  p_value\n",
       "1 0.526  "
      ]
     },
     "metadata": {},
     "output_type": "display_data"
    }
   ],
   "source": [
    "pvalue <- \n",
    "    null_dist %>% \n",
    "    get_p_value(obs_stat = obs_test_stat, direction = \"right\")\n",
    "pvalue"
   ]
  },
  {
   "cell_type": "code",
   "execution_count": null,
   "id": "40d0c7f5-064d-4beb-8e69-455f1ad23439",
   "metadata": {},
   "outputs": [],
   "source": []
  },
  {
   "cell_type": "code",
   "execution_count": null,
   "id": "776c969e-c6f0-45e7-bf47-1fc7575add55",
   "metadata": {},
   "outputs": [],
   "source": []
  },
  {
   "cell_type": "code",
   "execution_count": null,
   "id": "ea182bd0-32a3-4c1a-aef8-05492125bf49",
   "metadata": {},
   "outputs": [],
   "source": []
  },
  {
   "cell_type": "markdown",
   "id": "bcce132b-5ce0-41d4-add9-31549dc10678",
   "metadata": {},
   "source": [
    "#### Methods: Plan"
   ]
  },
  {
   "cell_type": "markdown",
   "id": "1b4fc48b-19d4-4a31-9d4e-d6c5763874d6",
   "metadata": {},
   "source": [
    "This report compares the differences of suicide rate in Canada from 1985 and 2013, it focuses on the gender and has a wide time period ranging from 1985 to 2013. It’s trustworthy because the hypothesis is tested in a straightforward way of deriving estimates. Plus, the sample we are using is relatively large so the result we get will be reliable. However, if we don’t use the bootstrapping method and the asymptotic analysis to verify the hypothesis, the result we get would be susceptible to outliers or other facts.\n",
    "\n",
    "Even though we clearly see a difference in the mean suicide rates (males showing much higher suicde rates than females) we cannot yet be certain about whether this difference is because of actual distinction between the suicide rates or if its simply a result of sampling variation. Hence, we will be using hypothesis tests to get better more reliable conclusion to our question. We expect to find the extent to which the suicide rates vary between males and females in Canada using their mean and standard deviation. Our prediction is that males do have higher suicide rates then females as can be seen in our priliminary results and previous research studies (Freeman et al., 2017).\n",
    "\n",
    "However, this report is only a proposal, the final report will dive into many more details and give more concrete answers to the question which are less prone to erroneous interpretations using confidence intervals and hypothesis tests. An impact of actually finding a difference in suicide rates could help in focusing extra resources in studying the causes of such differences and possibly mitigating them to avoid loss of life. Henceforth, some future questions which this could lead to are: What are the causes of this difference in suicide rates? What can be done to avoid so many more males from committing suicide? "
   ]
  },
  {
   "cell_type": "markdown",
   "id": "bf8635f0-1efe-4622-87bd-2503ff5fa6ce",
   "metadata": {},
   "source": [
    "### Discussion"
   ]
  },
  {
   "cell_type": "code",
   "execution_count": null,
   "id": "dd6e58c8-c817-452e-859a-f95e335cf382",
   "metadata": {},
   "outputs": [],
   "source": []
  },
  {
   "cell_type": "code",
   "execution_count": null,
   "id": "2530a40c-9e7d-4dec-942a-d7b29d2c010c",
   "metadata": {},
   "outputs": [],
   "source": []
  },
  {
   "cell_type": "code",
   "execution_count": null,
   "id": "0411d7f7-9451-45a9-a521-379fcb199339",
   "metadata": {},
   "outputs": [],
   "source": []
  },
  {
   "cell_type": "code",
   "execution_count": null,
   "id": "4a605e62-2d10-47e9-8c95-bae32cee8d21",
   "metadata": {},
   "outputs": [],
   "source": []
  },
  {
   "cell_type": "markdown",
   "id": "74f2b8c1-23e0-442c-a2fb-33e41eb174c8",
   "metadata": {},
   "source": [
    "### References"
   ]
  },
  {
   "cell_type": "markdown",
   "id": "9166b290-3146-4aee-a65a-cafb365ff60a",
   "metadata": {},
   "source": [
    "1. Rusty. “Suicide Rates Overview 1985 to 2016e.” Kaggle, 1 Dec. 2018, https://www.kaggle.com/datasets/russellyates88/suicide-rates-overview-1985-to-2016.   \n",
    "\n",
    "2. Freeman, Aislinné et al. “A Cross-National Study on Gender Differences in Suicide Intent - BMC Psychiatry.” BioMed Central, BioMed Central, 29 June 2017, https://bmcpsychiatry.biomedcentral.com/articles/10.1186/s12888-017-1398-8.  \n",
    "\n",
    "3. Elflein, John. “Distribution of Deaths Canada by Cause 2020.” Statista, 4 Mar. 2022, https://www.statista.com/statistics/437880/proportion-of-deaths-in-canada-by-disease/#:~:text=However%2C%20the%20leading%20causes%20of,43.9%20percent%20of%20all%20deaths.   \n"
   ]
  }
 ],
 "metadata": {
  "kernelspec": {
   "display_name": "R",
   "language": "R",
   "name": "ir"
  },
  "language_info": {
   "codemirror_mode": "r",
   "file_extension": ".r",
   "mimetype": "text/x-r-source",
   "name": "R",
   "pygments_lexer": "r",
   "version": "4.1.3"
  }
 },
 "nbformat": 4,
 "nbformat_minor": 5
}
